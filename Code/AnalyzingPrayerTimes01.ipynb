{
 "cells": [
  {
   "cell_type": "code",
   "execution_count": 1,
   "metadata": {
    "ExecuteTime": {
     "end_time": "2019-07-22T23:03:50.369335Z",
     "start_time": "2019-07-22T23:03:49.284983Z"
    }
   },
   "outputs": [],
   "source": [
    "import pandas as pd\n",
    "import numpy as np"
   ]
  },
  {
   "cell_type": "markdown",
   "metadata": {},
   "source": [
    "### Test reading first"
   ]
  },
  {
   "cell_type": "code",
   "execution_count": 5,
   "metadata": {
    "ExecuteTime": {
     "end_time": "2019-07-22T23:05:09.928813Z",
     "start_time": "2019-07-22T23:05:09.912822Z"
    }
   },
   "outputs": [],
   "source": [
    "# df = pd.read_csv('../Datasets/Full/all_results_test.csv',\n",
    "#                  dtype={'citi_id': int, 'Date': str, \"Fasting\": float},\n",
    "#                  index_col=[0],\n",
    "#                 parse_dates=['Date'])\n",
    "df = pd.read_csv('../Datasets/Full/all_results_test.csv',\n",
    "                 index_col=[0])"
   ]
  },
  {
   "cell_type": "code",
   "execution_count": 6,
   "metadata": {
    "ExecuteTime": {
     "end_time": "2019-07-22T23:05:15.111720Z",
     "start_time": "2019-07-22T23:05:15.078740Z"
    }
   },
   "outputs": [
    {
     "data": {
      "text/html": [
       "<div>\n",
       "<style scoped>\n",
       "    .dataframe tbody tr th:only-of-type {\n",
       "        vertical-align: middle;\n",
       "    }\n",
       "\n",
       "    .dataframe tbody tr th {\n",
       "        vertical-align: top;\n",
       "    }\n",
       "\n",
       "    .dataframe thead th {\n",
       "        text-align: right;\n",
       "    }\n",
       "</style>\n",
       "<table border=\"1\" class=\"dataframe\">\n",
       "  <thead>\n",
       "    <tr style=\"text-align: right;\">\n",
       "      <th></th>\n",
       "      <th>citi_id</th>\n",
       "      <th>Date</th>\n",
       "      <th>Fasting</th>\n",
       "    </tr>\n",
       "  </thead>\n",
       "  <tbody>\n",
       "    <tr>\n",
       "      <th>0.0</th>\n",
       "      <td>2960</td>\n",
       "      <td>1/1/2019</td>\n",
       "      <td>11.48934384</td>\n",
       "    </tr>\n",
       "    <tr>\n",
       "      <th>1.0</th>\n",
       "      <td>2960</td>\n",
       "      <td>1/2/2019</td>\n",
       "      <td>11.49779764</td>\n",
       "    </tr>\n",
       "    <tr>\n",
       "      <th>2.0</th>\n",
       "      <td>2960</td>\n",
       "      <td>1/3/2019</td>\n",
       "      <td>11.50699453</td>\n",
       "    </tr>\n",
       "    <tr>\n",
       "      <th>3.0</th>\n",
       "      <td>2960</td>\n",
       "      <td>1/4/2019</td>\n",
       "      <td>11.51692784</td>\n",
       "    </tr>\n",
       "    <tr>\n",
       "      <th>4.0</th>\n",
       "      <td>2960</td>\n",
       "      <td>1/5/2019</td>\n",
       "      <td>11.52759042</td>\n",
       "    </tr>\n",
       "  </tbody>\n",
       "</table>\n",
       "</div>"
      ],
      "text/plain": [
       "    citi_id      Date      Fasting\n",
       "0.0    2960  1/1/2019  11.48934384\n",
       "1.0    2960  1/2/2019  11.49779764\n",
       "2.0    2960  1/3/2019  11.50699453\n",
       "3.0    2960  1/4/2019  11.51692784\n",
       "4.0    2960  1/5/2019  11.52759042"
      ]
     },
     "execution_count": 6,
     "metadata": {},
     "output_type": "execute_result"
    }
   ],
   "source": [
    "df.head()"
   ]
  },
  {
   "cell_type": "code",
   "execution_count": 7,
   "metadata": {
    "ExecuteTime": {
     "end_time": "2019-07-22T23:05:17.252446Z",
     "start_time": "2019-07-22T23:05:17.230460Z"
    }
   },
   "outputs": [
    {
     "name": "stdout",
     "output_type": "stream",
     "text": [
      "<class 'pandas.core.frame.DataFrame'>\n",
      "Float64Index: 368 entries, 0.0 to 364.0\n",
      "Data columns (total 3 columns):\n",
      "citi_id    368 non-null object\n",
      "Date       368 non-null object\n",
      "Fasting    368 non-null object\n",
      "dtypes: object(3)\n",
      "memory usage: 11.5+ KB\n"
     ]
    }
   ],
   "source": [
    "df.info()"
   ]
  },
  {
   "cell_type": "code",
   "execution_count": 8,
   "metadata": {
    "ExecuteTime": {
     "end_time": "2019-07-22T23:07:23.798657Z",
     "start_time": "2019-07-22T23:07:23.744672Z"
    }
   },
   "outputs": [],
   "source": [
    "df.citi_id = pd.to_numeric(df.citi_id, errors='coerce')\n",
    "df.Date = pd.to_datetime(df.Date, errors='coerce')\n",
    "df.Fasting = pd.to_numeric(df.Fasting, errors='coerce')"
   ]
  },
  {
   "cell_type": "code",
   "execution_count": 9,
   "metadata": {
    "ExecuteTime": {
     "end_time": "2019-07-22T23:07:30.878283Z",
     "start_time": "2019-07-22T23:07:30.870285Z"
    }
   },
   "outputs": [
    {
     "name": "stdout",
     "output_type": "stream",
     "text": [
      "<class 'pandas.core.frame.DataFrame'>\n",
      "Float64Index: 368 entries, 0.0 to 364.0\n",
      "Data columns (total 3 columns):\n",
      "citi_id    365 non-null float64\n",
      "Date       365 non-null datetime64[ns]\n",
      "Fasting    365 non-null float64\n",
      "dtypes: datetime64[ns](1), float64(2)\n",
      "memory usage: 11.5 KB\n"
     ]
    }
   ],
   "source": [
    "df.info()"
   ]
  },
  {
   "cell_type": "code",
   "execution_count": 11,
   "metadata": {
    "ExecuteTime": {
     "end_time": "2019-07-22T23:09:36.539965Z",
     "start_time": "2019-07-22T23:09:36.532969Z"
    }
   },
   "outputs": [],
   "source": [
    "df.dropna(inplace=True)"
   ]
  },
  {
   "cell_type": "code",
   "execution_count": 12,
   "metadata": {
    "ExecuteTime": {
     "end_time": "2019-07-22T23:09:42.128526Z",
     "start_time": "2019-07-22T23:09:42.123530Z"
    }
   },
   "outputs": [],
   "source": [
    "df.citi_id =df.citi_id.astype(int)"
   ]
  },
  {
   "cell_type": "code",
   "execution_count": 13,
   "metadata": {
    "ExecuteTime": {
     "end_time": "2019-07-22T23:09:50.653699Z",
     "start_time": "2019-07-22T23:09:50.645704Z"
    }
   },
   "outputs": [
    {
     "name": "stdout",
     "output_type": "stream",
     "text": [
      "<class 'pandas.core.frame.DataFrame'>\n",
      "Float64Index: 365 entries, 0.0 to 364.0\n",
      "Data columns (total 3 columns):\n",
      "citi_id    365 non-null int32\n",
      "Date       365 non-null datetime64[ns]\n",
      "Fasting    365 non-null float64\n",
      "dtypes: datetime64[ns](1), float64(1), int32(1)\n",
      "memory usage: 10.0 KB\n"
     ]
    }
   ],
   "source": [
    "df.info()"
   ]
  },
  {
   "cell_type": "markdown",
   "metadata": {},
   "source": [
    "### Reading the full dataset"
   ]
  },
  {
   "cell_type": "code",
   "execution_count": 14,
   "metadata": {
    "ExecuteTime": {
     "end_time": "2019-07-22T23:14:18.445445Z",
     "start_time": "2019-07-22T23:11:47.700468Z"
    }
   },
   "outputs": [
    {
     "name": "stderr",
     "output_type": "stream",
     "text": [
      "C:\\Users\\Drnes\\Anaconda3\\lib\\site-packages\\IPython\\core\\interactiveshell.py:3057: DtypeWarning: Columns (0,1,3) have mixed types. Specify dtype option on import or set low_memory=False.\n",
      "  interactivity=interactivity, compiler=compiler, result=result)\n"
     ]
    },
    {
     "data": {
      "text/html": [
       "<div>\n",
       "<style scoped>\n",
       "    .dataframe tbody tr th:only-of-type {\n",
       "        vertical-align: middle;\n",
       "    }\n",
       "\n",
       "    .dataframe tbody tr th {\n",
       "        vertical-align: top;\n",
       "    }\n",
       "\n",
       "    .dataframe thead th {\n",
       "        text-align: right;\n",
       "    }\n",
       "</style>\n",
       "<table border=\"1\" class=\"dataframe\">\n",
       "  <thead>\n",
       "    <tr style=\"text-align: right;\">\n",
       "      <th></th>\n",
       "      <th>citi_id</th>\n",
       "      <th>Date</th>\n",
       "      <th>Fasting</th>\n",
       "    </tr>\n",
       "  </thead>\n",
       "  <tbody>\n",
       "    <tr>\n",
       "      <th>0.0</th>\n",
       "      <td>2960</td>\n",
       "      <td>2019-01-01</td>\n",
       "      <td>11.489344</td>\n",
       "    </tr>\n",
       "    <tr>\n",
       "      <th>1.0</th>\n",
       "      <td>2960</td>\n",
       "      <td>2019-01-02</td>\n",
       "      <td>11.497798</td>\n",
       "    </tr>\n",
       "    <tr>\n",
       "      <th>2.0</th>\n",
       "      <td>2960</td>\n",
       "      <td>2019-01-03</td>\n",
       "      <td>11.506995</td>\n",
       "    </tr>\n",
       "    <tr>\n",
       "      <th>3.0</th>\n",
       "      <td>2960</td>\n",
       "      <td>2019-01-04</td>\n",
       "      <td>11.516928</td>\n",
       "    </tr>\n",
       "    <tr>\n",
       "      <th>4.0</th>\n",
       "      <td>2960</td>\n",
       "      <td>2019-01-05</td>\n",
       "      <td>11.527590</td>\n",
       "    </tr>\n",
       "  </tbody>\n",
       "</table>\n",
       "</div>"
      ],
      "text/plain": [
       "     citi_id       Date    Fasting\n",
       "0.0     2960 2019-01-01  11.489344\n",
       "1.0     2960 2019-01-02  11.497798\n",
       "2.0     2960 2019-01-03  11.506995\n",
       "3.0     2960 2019-01-04  11.516928\n",
       "4.0     2960 2019-01-05  11.527590"
      ]
     },
     "execution_count": 14,
     "metadata": {},
     "output_type": "execute_result"
    }
   ],
   "source": [
    "df = pd.read_csv('../Datasets/Full/all_results.csv',\n",
    "                 index_col=[0])\n",
    "df.citi_id = pd.to_numeric(df.citi_id, errors='coerce')\n",
    "df.Date = pd.to_datetime(df.Date, errors='coerce')\n",
    "df.Fasting = pd.to_numeric(df.Fasting, errors='coerce')\n",
    "df.dropna(inplace=True)\n",
    "df.citi_id =df.citi_id.astype(int)\n",
    "df.head()"
   ]
  },
  {
   "cell_type": "code",
   "execution_count": 15,
   "metadata": {
    "ExecuteTime": {
     "end_time": "2019-07-22T23:14:18.455439Z",
     "start_time": "2019-07-22T23:14:18.447444Z"
    }
   },
   "outputs": [
    {
     "name": "stdout",
     "output_type": "stream",
     "text": [
      "<class 'pandas.core.frame.DataFrame'>\n",
      "Index: 53146774 entries, 0.0 to 364\n",
      "Data columns (total 3 columns):\n",
      "citi_id    int32\n",
      "Date       datetime64[ns]\n",
      "Fasting    float64\n",
      "dtypes: datetime64[ns](1), float64(1), int32(1)\n",
      "memory usage: 1.4+ GB\n"
     ]
    }
   ],
   "source": [
    "df.info()"
   ]
  },
  {
   "cell_type": "code",
   "execution_count": 17,
   "metadata": {
    "ExecuteTime": {
     "end_time": "2019-07-22T23:14:46.152915Z",
     "start_time": "2019-07-22T23:14:39.699886Z"
    }
   },
   "outputs": [
    {
     "data": {
      "text/html": [
       "<div>\n",
       "<style scoped>\n",
       "    .dataframe tbody tr th:only-of-type {\n",
       "        vertical-align: middle;\n",
       "    }\n",
       "\n",
       "    .dataframe tbody tr th {\n",
       "        vertical-align: top;\n",
       "    }\n",
       "\n",
       "    .dataframe thead th {\n",
       "        text-align: right;\n",
       "    }\n",
       "</style>\n",
       "<table border=\"1\" class=\"dataframe\">\n",
       "  <thead>\n",
       "    <tr style=\"text-align: right;\">\n",
       "      <th></th>\n",
       "      <th>count</th>\n",
       "      <th>mean</th>\n",
       "      <th>std</th>\n",
       "      <th>min</th>\n",
       "      <th>25%</th>\n",
       "      <th>50%</th>\n",
       "      <th>75%</th>\n",
       "      <th>max</th>\n",
       "    </tr>\n",
       "  </thead>\n",
       "  <tbody>\n",
       "    <tr>\n",
       "      <th>citi_id</th>\n",
       "      <td>53146774.0</td>\n",
       "      <td>3.317375e+06</td>\n",
       "      <td>2.215669e+06</td>\n",
       "      <td>2960.000000</td>\n",
       "      <td>1.794733e+06</td>\n",
       "      <td>2.968220e+06</td>\n",
       "      <td>4.013579e+06</td>\n",
       "      <td>1.100285e+07</td>\n",
       "    </tr>\n",
       "    <tr>\n",
       "      <th>Fasting</th>\n",
       "      <td>53146774.0</td>\n",
       "      <td>1.381328e+01</td>\n",
       "      <td>2.362887e+00</td>\n",
       "      <td>4.296197</td>\n",
       "      <td>1.223946e+01</td>\n",
       "      <td>1.344104e+01</td>\n",
       "      <td>1.517764e+01</td>\n",
       "      <td>2.394721e+01</td>\n",
       "    </tr>\n",
       "  </tbody>\n",
       "</table>\n",
       "</div>"
      ],
      "text/plain": [
       "              count          mean           std          min           25%  \\\n",
       "citi_id  53146774.0  3.317375e+06  2.215669e+06  2960.000000  1.794733e+06   \n",
       "Fasting  53146774.0  1.381328e+01  2.362887e+00     4.296197  1.223946e+01   \n",
       "\n",
       "                  50%           75%           max  \n",
       "citi_id  2.968220e+06  4.013579e+06  1.100285e+07  \n",
       "Fasting  1.344104e+01  1.517764e+01  2.394721e+01  "
      ]
     },
     "execution_count": 17,
     "metadata": {},
     "output_type": "execute_result"
    }
   ],
   "source": [
    "df.describe().T"
   ]
  },
  {
   "cell_type": "code",
   "execution_count": 21,
   "metadata": {
    "ExecuteTime": {
     "end_time": "2019-07-22T23:17:03.867251Z",
     "start_time": "2019-07-22T23:17:00.530304Z"
    }
   },
   "outputs": [
    {
     "data": {
      "text/html": [
       "<div>\n",
       "<style scoped>\n",
       "    .dataframe tbody tr th:only-of-type {\n",
       "        vertical-align: middle;\n",
       "    }\n",
       "\n",
       "    .dataframe tbody tr th {\n",
       "        vertical-align: top;\n",
       "    }\n",
       "\n",
       "    .dataframe thead th {\n",
       "        text-align: right;\n",
       "    }\n",
       "</style>\n",
       "<table border=\"1\" class=\"dataframe\">\n",
       "  <thead>\n",
       "    <tr style=\"text-align: right;\">\n",
       "      <th></th>\n",
       "      <th>count</th>\n",
       "      <th>mean</th>\n",
       "      <th>std</th>\n",
       "      <th>min</th>\n",
       "      <th>25%</th>\n",
       "      <th>50%</th>\n",
       "      <th>75%</th>\n",
       "      <th>max</th>\n",
       "    </tr>\n",
       "  </thead>\n",
       "  <tbody>\n",
       "    <tr>\n",
       "      <th>Fasting</th>\n",
       "      <td>53146774.0</td>\n",
       "      <td>13.813282</td>\n",
       "      <td>2.362887</td>\n",
       "      <td>4.296197</td>\n",
       "      <td>12.239461</td>\n",
       "      <td>13.441043</td>\n",
       "      <td>15.177638</td>\n",
       "      <td>23.947205</td>\n",
       "    </tr>\n",
       "  </tbody>\n",
       "</table>\n",
       "</div>"
      ],
      "text/plain": [
       "              count       mean       std       min        25%        50%  \\\n",
       "Fasting  53146774.0  13.813282  2.362887  4.296197  12.239461  13.441043   \n",
       "\n",
       "               75%        max  \n",
       "Fasting  15.177638  23.947205  "
      ]
     },
     "execution_count": 21,
     "metadata": {},
     "output_type": "execute_result"
    }
   ],
   "source": [
    "df.Fasting.describe().to_frame().T"
   ]
  },
  {
   "cell_type": "code",
   "execution_count": 22,
   "metadata": {
    "ExecuteTime": {
     "end_time": "2019-07-23T00:03:25.923474Z",
     "start_time": "2019-07-22T23:26:47.975804Z"
    }
   },
   "outputs": [],
   "source": [
    "# Saving the new dataframe\n",
    "df.to_csv('../Datasets/Full/all_results.csv', index=False)"
   ]
  },
  {
   "cell_type": "code",
   "execution_count": 23,
   "metadata": {
    "ExecuteTime": {
     "end_time": "2019-07-23T10:44:43.308037Z",
     "start_time": "2019-07-23T00:41:28.380406Z"
    }
   },
   "outputs": [],
   "source": [
    "# Saving the new dataframe COMPRESSED\n",
    "df.to_csv('../Datasets/Full/all_results2.zip', index=False)"
   ]
  },
  {
   "cell_type": "code",
   "execution_count": 24,
   "metadata": {
    "ExecuteTime": {
     "end_time": "2019-07-23T10:49:50.839146Z",
     "start_time": "2019-07-23T10:49:50.600289Z"
    }
   },
   "outputs": [
    {
     "data": {
      "text/html": [
       "<div>\n",
       "<style scoped>\n",
       "    .dataframe tbody tr th:only-of-type {\n",
       "        vertical-align: middle;\n",
       "    }\n",
       "\n",
       "    .dataframe tbody tr th {\n",
       "        vertical-align: top;\n",
       "    }\n",
       "\n",
       "    .dataframe thead th {\n",
       "        text-align: right;\n",
       "    }\n",
       "</style>\n",
       "<table border=\"1\" class=\"dataframe\">\n",
       "  <thead>\n",
       "    <tr style=\"text-align: right;\">\n",
       "      <th></th>\n",
       "      <th>id</th>\n",
       "      <th>country</th>\n",
       "      <th>city_name</th>\n",
       "      <th>lat</th>\n",
       "      <th>lng</th>\n",
       "      <th>alt</th>\n",
       "      <th>population</th>\n",
       "      <th>utc</th>\n",
       "      <th>mazhab</th>\n",
       "    </tr>\n",
       "  </thead>\n",
       "  <tbody>\n",
       "    <tr>\n",
       "      <th>0</th>\n",
       "      <td>2960</td>\n",
       "      <td>SY</td>\n",
       "      <td>`Ayn Halaqim</td>\n",
       "      <td>34.93998</td>\n",
       "      <td>36.32212</td>\n",
       "      <td>596</td>\n",
       "      <td>0</td>\n",
       "      <td>2.0</td>\n",
       "      <td>3</td>\n",
       "    </tr>\n",
       "    <tr>\n",
       "      <th>1</th>\n",
       "      <td>4273</td>\n",
       "      <td>SY</td>\n",
       "      <td>Al Karamah</td>\n",
       "      <td>35.86865</td>\n",
       "      <td>39.27803</td>\n",
       "      <td>244</td>\n",
       "      <td>0</td>\n",
       "      <td>2.0</td>\n",
       "      <td>3</td>\n",
       "    </tr>\n",
       "    <tr>\n",
       "      <th>2</th>\n",
       "      <td>5174</td>\n",
       "      <td>SY</td>\n",
       "      <td>`Ariqah</td>\n",
       "      <td>32.88981</td>\n",
       "      <td>36.48336</td>\n",
       "      <td>804</td>\n",
       "      <td>0</td>\n",
       "      <td>2.0</td>\n",
       "      <td>3</td>\n",
       "    </tr>\n",
       "    <tr>\n",
       "      <th>3</th>\n",
       "      <td>9904</td>\n",
       "      <td>IR</td>\n",
       "      <td>Shahrak</td>\n",
       "      <td>36.17449</td>\n",
       "      <td>50.76908</td>\n",
       "      <td>1823</td>\n",
       "      <td>0</td>\n",
       "      <td>3.5</td>\n",
       "      <td>6</td>\n",
       "    </tr>\n",
       "    <tr>\n",
       "      <th>4</th>\n",
       "      <td>10570</td>\n",
       "      <td>IR</td>\n",
       "      <td>Alvand</td>\n",
       "      <td>36.18930</td>\n",
       "      <td>50.06430</td>\n",
       "      <td>1243</td>\n",
       "      <td>0</td>\n",
       "      <td>3.5</td>\n",
       "      <td>6</td>\n",
       "    </tr>\n",
       "  </tbody>\n",
       "</table>\n",
       "</div>"
      ],
      "text/plain": [
       "      id country     city_name       lat       lng   alt  population  utc  \\\n",
       "0   2960      SY  `Ayn Halaqim  34.93998  36.32212   596           0  2.0   \n",
       "1   4273      SY    Al Karamah  35.86865  39.27803   244           0  2.0   \n",
       "2   5174      SY       `Ariqah  32.88981  36.48336   804           0  2.0   \n",
       "3   9904      IR       Shahrak  36.17449  50.76908  1823           0  3.5   \n",
       "4  10570      IR        Alvand  36.18930  50.06430  1243           0  3.5   \n",
       "\n",
       "   mazhab  \n",
       "0       3  \n",
       "1       3  \n",
       "2       3  \n",
       "3       6  \n",
       "4       6  "
      ]
     },
     "execution_count": 24,
     "metadata": {},
     "output_type": "execute_result"
    }
   ],
   "source": [
    "# reading the city country dataset\n",
    "cdf = pd.read_csv('../Datasets/AllCities.csv')\n",
    "cdf.head()"
   ]
  },
  {
   "cell_type": "code",
   "execution_count": 26,
   "metadata": {
    "ExecuteTime": {
     "end_time": "2019-07-23T10:53:31.324118Z",
     "start_time": "2019-07-23T10:53:31.311125Z"
    }
   },
   "outputs": [
    {
     "data": {
      "text/html": [
       "<div>\n",
       "<style scoped>\n",
       "    .dataframe tbody tr th:only-of-type {\n",
       "        vertical-align: middle;\n",
       "    }\n",
       "\n",
       "    .dataframe tbody tr th {\n",
       "        vertical-align: top;\n",
       "    }\n",
       "\n",
       "    .dataframe thead th {\n",
       "        text-align: right;\n",
       "    }\n",
       "</style>\n",
       "<table border=\"1\" class=\"dataframe\">\n",
       "  <thead>\n",
       "    <tr style=\"text-align: right;\">\n",
       "      <th></th>\n",
       "      <th>id</th>\n",
       "      <th>country</th>\n",
       "    </tr>\n",
       "  </thead>\n",
       "  <tbody>\n",
       "    <tr>\n",
       "      <th>0</th>\n",
       "      <td>2960</td>\n",
       "      <td>SY</td>\n",
       "    </tr>\n",
       "    <tr>\n",
       "      <th>1</th>\n",
       "      <td>4273</td>\n",
       "      <td>SY</td>\n",
       "    </tr>\n",
       "    <tr>\n",
       "      <th>2</th>\n",
       "      <td>5174</td>\n",
       "      <td>SY</td>\n",
       "    </tr>\n",
       "    <tr>\n",
       "      <th>3</th>\n",
       "      <td>9904</td>\n",
       "      <td>IR</td>\n",
       "    </tr>\n",
       "    <tr>\n",
       "      <th>4</th>\n",
       "      <td>10570</td>\n",
       "      <td>IR</td>\n",
       "    </tr>\n",
       "  </tbody>\n",
       "</table>\n",
       "</div>"
      ],
      "text/plain": [
       "      id country\n",
       "0   2960      SY\n",
       "1   4273      SY\n",
       "2   5174      SY\n",
       "3   9904      IR\n",
       "4  10570      IR"
      ]
     },
     "execution_count": 26,
     "metadata": {},
     "output_type": "execute_result"
    }
   ],
   "source": [
    "countries = cdf[['id', 'country']]\n",
    "countries.head()"
   ]
  },
  {
   "cell_type": "code",
   "execution_count": 29,
   "metadata": {
    "ExecuteTime": {
     "end_time": "2019-07-23T10:54:32.616512Z",
     "start_time": "2019-07-23T10:54:32.605520Z"
    }
   },
   "outputs": [
    {
     "data": {
      "text/html": [
       "<div>\n",
       "<style scoped>\n",
       "    .dataframe tbody tr th:only-of-type {\n",
       "        vertical-align: middle;\n",
       "    }\n",
       "\n",
       "    .dataframe tbody tr th {\n",
       "        vertical-align: top;\n",
       "    }\n",
       "\n",
       "    .dataframe thead th {\n",
       "        text-align: right;\n",
       "    }\n",
       "</style>\n",
       "<table border=\"1\" class=\"dataframe\">\n",
       "  <thead>\n",
       "    <tr style=\"text-align: right;\">\n",
       "      <th></th>\n",
       "      <th>country</th>\n",
       "    </tr>\n",
       "    <tr>\n",
       "      <th>id</th>\n",
       "      <th></th>\n",
       "    </tr>\n",
       "  </thead>\n",
       "  <tbody>\n",
       "    <tr>\n",
       "      <th>2960</th>\n",
       "      <td>SY</td>\n",
       "    </tr>\n",
       "    <tr>\n",
       "      <th>4273</th>\n",
       "      <td>SY</td>\n",
       "    </tr>\n",
       "    <tr>\n",
       "      <th>5174</th>\n",
       "      <td>SY</td>\n",
       "    </tr>\n",
       "    <tr>\n",
       "      <th>9904</th>\n",
       "      <td>IR</td>\n",
       "    </tr>\n",
       "    <tr>\n",
       "      <th>10570</th>\n",
       "      <td>IR</td>\n",
       "    </tr>\n",
       "  </tbody>\n",
       "</table>\n",
       "</div>"
      ],
      "text/plain": [
       "      country\n",
       "id           \n",
       "2960       SY\n",
       "4273       SY\n",
       "5174       SY\n",
       "9904       IR\n",
       "10570      IR"
      ]
     },
     "execution_count": 29,
     "metadata": {},
     "output_type": "execute_result"
    }
   ],
   "source": [
    "countries.set_index('id').head()"
   ]
  },
  {
   "cell_type": "code",
   "execution_count": 30,
   "metadata": {
    "ExecuteTime": {
     "end_time": "2019-07-23T10:57:14.971864Z",
     "start_time": "2019-07-23T10:57:11.379075Z"
    }
   },
   "outputs": [
    {
     "data": {
      "text/html": [
       "<div>\n",
       "<style scoped>\n",
       "    .dataframe tbody tr th:only-of-type {\n",
       "        vertical-align: middle;\n",
       "    }\n",
       "\n",
       "    .dataframe tbody tr th {\n",
       "        vertical-align: top;\n",
       "    }\n",
       "\n",
       "    .dataframe thead th {\n",
       "        text-align: right;\n",
       "    }\n",
       "</style>\n",
       "<table border=\"1\" class=\"dataframe\">\n",
       "  <thead>\n",
       "    <tr style=\"text-align: right;\">\n",
       "      <th></th>\n",
       "      <th>Date</th>\n",
       "      <th>Fasting</th>\n",
       "      <th>country</th>\n",
       "    </tr>\n",
       "  </thead>\n",
       "  <tbody>\n",
       "    <tr>\n",
       "      <th>2960</th>\n",
       "      <td>2019-01-01</td>\n",
       "      <td>11.489344</td>\n",
       "      <td>SY</td>\n",
       "    </tr>\n",
       "    <tr>\n",
       "      <th>2960</th>\n",
       "      <td>2019-01-02</td>\n",
       "      <td>11.497798</td>\n",
       "      <td>SY</td>\n",
       "    </tr>\n",
       "    <tr>\n",
       "      <th>2960</th>\n",
       "      <td>2019-01-03</td>\n",
       "      <td>11.506995</td>\n",
       "      <td>SY</td>\n",
       "    </tr>\n",
       "    <tr>\n",
       "      <th>2960</th>\n",
       "      <td>2019-01-04</td>\n",
       "      <td>11.516928</td>\n",
       "      <td>SY</td>\n",
       "    </tr>\n",
       "    <tr>\n",
       "      <th>2960</th>\n",
       "      <td>2019-01-05</td>\n",
       "      <td>11.527590</td>\n",
       "      <td>SY</td>\n",
       "    </tr>\n",
       "  </tbody>\n",
       "</table>\n",
       "</div>"
      ],
      "text/plain": [
       "           Date    Fasting country\n",
       "2960 2019-01-01  11.489344      SY\n",
       "2960 2019-01-02  11.497798      SY\n",
       "2960 2019-01-03  11.506995      SY\n",
       "2960 2019-01-04  11.516928      SY\n",
       "2960 2019-01-05  11.527590      SY"
      ]
     },
     "execution_count": 30,
     "metadata": {},
     "output_type": "execute_result"
    }
   ],
   "source": [
    "result = pd.concat([df.set_index('citi_id'), countries.set_index('id')], axis=1)#, ignore_index=True)\n",
    "result.head()"
   ]
  },
  {
   "cell_type": "code",
   "execution_count": 33,
   "metadata": {
    "ExecuteTime": {
     "end_time": "2019-07-23T10:59:32.933575Z",
     "start_time": "2019-07-23T10:59:32.284974Z"
    }
   },
   "outputs": [
    {
     "data": {
      "text/html": [
       "<div>\n",
       "<style scoped>\n",
       "    .dataframe tbody tr th:only-of-type {\n",
       "        vertical-align: middle;\n",
       "    }\n",
       "\n",
       "    .dataframe tbody tr th {\n",
       "        vertical-align: top;\n",
       "    }\n",
       "\n",
       "    .dataframe thead th {\n",
       "        text-align: right;\n",
       "    }\n",
       "</style>\n",
       "<table border=\"1\" class=\"dataframe\">\n",
       "  <thead>\n",
       "    <tr style=\"text-align: right;\">\n",
       "      <th></th>\n",
       "      <th>index</th>\n",
       "      <th>Date</th>\n",
       "      <th>Fasting</th>\n",
       "      <th>country</th>\n",
       "    </tr>\n",
       "  </thead>\n",
       "  <tbody>\n",
       "    <tr>\n",
       "      <th>0</th>\n",
       "      <td>2960</td>\n",
       "      <td>2019-01-01</td>\n",
       "      <td>11.489344</td>\n",
       "      <td>SY</td>\n",
       "    </tr>\n",
       "    <tr>\n",
       "      <th>1</th>\n",
       "      <td>2960</td>\n",
       "      <td>2019-01-02</td>\n",
       "      <td>11.497798</td>\n",
       "      <td>SY</td>\n",
       "    </tr>\n",
       "    <tr>\n",
       "      <th>2</th>\n",
       "      <td>2960</td>\n",
       "      <td>2019-01-03</td>\n",
       "      <td>11.506995</td>\n",
       "      <td>SY</td>\n",
       "    </tr>\n",
       "    <tr>\n",
       "      <th>3</th>\n",
       "      <td>2960</td>\n",
       "      <td>2019-01-04</td>\n",
       "      <td>11.516928</td>\n",
       "      <td>SY</td>\n",
       "    </tr>\n",
       "    <tr>\n",
       "      <th>4</th>\n",
       "      <td>2960</td>\n",
       "      <td>2019-01-05</td>\n",
       "      <td>11.527590</td>\n",
       "      <td>SY</td>\n",
       "    </tr>\n",
       "  </tbody>\n",
       "</table>\n",
       "</div>"
      ],
      "text/plain": [
       "   index       Date    Fasting country\n",
       "0   2960 2019-01-01  11.489344      SY\n",
       "1   2960 2019-01-02  11.497798      SY\n",
       "2   2960 2019-01-03  11.506995      SY\n",
       "3   2960 2019-01-04  11.516928      SY\n",
       "4   2960 2019-01-05  11.527590      SY"
      ]
     },
     "execution_count": 33,
     "metadata": {},
     "output_type": "execute_result"
    }
   ],
   "source": [
    "result2 = result.reset_index()\n",
    "result2.head()"
   ]
  },
  {
   "cell_type": "code",
   "execution_count": 42,
   "metadata": {
    "ExecuteTime": {
     "end_time": "2019-07-23T11:12:07.668884Z",
     "start_time": "2019-07-23T11:11:57.492147Z"
    }
   },
   "outputs": [],
   "source": [
    "conc = result2.groupby(['country', 'Date'])['Fasting'].agg(['min', 'max', 'mean', 'median', 'std'])"
   ]
  },
  {
   "cell_type": "code",
   "execution_count": 45,
   "metadata": {
    "ExecuteTime": {
     "end_time": "2019-07-23T11:14:17.418899Z",
     "start_time": "2019-07-23T11:14:17.404908Z"
    }
   },
   "outputs": [
    {
     "data": {
      "text/html": [
       "<div>\n",
       "<style scoped>\n",
       "    .dataframe tbody tr th:only-of-type {\n",
       "        vertical-align: middle;\n",
       "    }\n",
       "\n",
       "    .dataframe tbody tr th {\n",
       "        vertical-align: top;\n",
       "    }\n",
       "\n",
       "    .dataframe thead th {\n",
       "        text-align: right;\n",
       "    }\n",
       "</style>\n",
       "<table border=\"1\" class=\"dataframe\">\n",
       "  <thead>\n",
       "    <tr style=\"text-align: right;\">\n",
       "      <th></th>\n",
       "      <th></th>\n",
       "      <th>min</th>\n",
       "      <th>max</th>\n",
       "      <th>mean</th>\n",
       "      <th>median</th>\n",
       "      <th>std</th>\n",
       "    </tr>\n",
       "    <tr>\n",
       "      <th>country</th>\n",
       "      <th>Date</th>\n",
       "      <th></th>\n",
       "      <th></th>\n",
       "      <th></th>\n",
       "      <th></th>\n",
       "      <th></th>\n",
       "    </tr>\n",
       "  </thead>\n",
       "  <tbody>\n",
       "    <tr>\n",
       "      <th rowspan=\"5\" valign=\"top\">AD</th>\n",
       "      <th>2019-01-01</th>\n",
       "      <td>10.814271</td>\n",
       "      <td>10.823414</td>\n",
       "      <td>10.817579</td>\n",
       "      <td>10.817088</td>\n",
       "      <td>0.002827</td>\n",
       "    </tr>\n",
       "    <tr>\n",
       "      <th>2019-01-02</th>\n",
       "      <td>10.825988</td>\n",
       "      <td>10.835076</td>\n",
       "      <td>10.829275</td>\n",
       "      <td>10.828787</td>\n",
       "      <td>0.002811</td>\n",
       "    </tr>\n",
       "    <tr>\n",
       "      <th>2019-01-03</th>\n",
       "      <td>10.838720</td>\n",
       "      <td>10.847750</td>\n",
       "      <td>10.841987</td>\n",
       "      <td>10.841502</td>\n",
       "      <td>0.002793</td>\n",
       "    </tr>\n",
       "    <tr>\n",
       "      <th>2019-01-04</th>\n",
       "      <td>10.852459</td>\n",
       "      <td>10.861426</td>\n",
       "      <td>10.855703</td>\n",
       "      <td>10.855221</td>\n",
       "      <td>0.002773</td>\n",
       "    </tr>\n",
       "    <tr>\n",
       "      <th>2019-01-05</th>\n",
       "      <td>10.867192</td>\n",
       "      <td>10.876092</td>\n",
       "      <td>10.870412</td>\n",
       "      <td>10.869934</td>\n",
       "      <td>0.002752</td>\n",
       "    </tr>\n",
       "  </tbody>\n",
       "</table>\n",
       "</div>"
      ],
      "text/plain": [
       "                          min        max       mean     median       std\n",
       "country Date                                                            \n",
       "AD      2019-01-01  10.814271  10.823414  10.817579  10.817088  0.002827\n",
       "        2019-01-02  10.825988  10.835076  10.829275  10.828787  0.002811\n",
       "        2019-01-03  10.838720  10.847750  10.841987  10.841502  0.002793\n",
       "        2019-01-04  10.852459  10.861426  10.855703  10.855221  0.002773\n",
       "        2019-01-05  10.867192  10.876092  10.870412  10.869934  0.002752"
      ]
     },
     "execution_count": 45,
     "metadata": {},
     "output_type": "execute_result"
    }
   ],
   "source": [
    "conc.head()"
   ]
  },
  {
   "cell_type": "code",
   "execution_count": 50,
   "metadata": {
    "ExecuteTime": {
     "end_time": "2019-07-23T11:18:14.267137Z",
     "start_time": "2019-07-23T11:18:14.261140Z"
    }
   },
   "outputs": [
    {
     "data": {
      "text/plain": [
       "Index(['fd_min', 'fd_max', 'fd_mean', 'fd_median', 'fd_std'], dtype='object')"
      ]
     },
     "execution_count": 50,
     "metadata": {},
     "output_type": "execute_result"
    }
   ],
   "source": [
    "conc.columns = [f'fd_{col}' for col in conc.columns.values]\n",
    "conc.columns"
   ]
  },
  {
   "cell_type": "code",
   "execution_count": 51,
   "metadata": {
    "ExecuteTime": {
     "end_time": "2019-07-23T11:19:07.109417Z",
     "start_time": "2019-07-23T11:19:07.089430Z"
    }
   },
   "outputs": [
    {
     "data": {
      "text/html": [
       "<div>\n",
       "<style scoped>\n",
       "    .dataframe tbody tr th:only-of-type {\n",
       "        vertical-align: middle;\n",
       "    }\n",
       "\n",
       "    .dataframe tbody tr th {\n",
       "        vertical-align: top;\n",
       "    }\n",
       "\n",
       "    .dataframe thead th {\n",
       "        text-align: right;\n",
       "    }\n",
       "</style>\n",
       "<table border=\"1\" class=\"dataframe\">\n",
       "  <thead>\n",
       "    <tr style=\"text-align: right;\">\n",
       "      <th></th>\n",
       "      <th>country</th>\n",
       "      <th>Date</th>\n",
       "      <th>fd_min</th>\n",
       "      <th>fd_max</th>\n",
       "      <th>fd_mean</th>\n",
       "      <th>fd_median</th>\n",
       "      <th>fd_std</th>\n",
       "    </tr>\n",
       "  </thead>\n",
       "  <tbody>\n",
       "    <tr>\n",
       "      <th>0</th>\n",
       "      <td>AD</td>\n",
       "      <td>2019-01-01</td>\n",
       "      <td>10.814271</td>\n",
       "      <td>10.823414</td>\n",
       "      <td>10.817579</td>\n",
       "      <td>10.817088</td>\n",
       "      <td>0.002827</td>\n",
       "    </tr>\n",
       "    <tr>\n",
       "      <th>1</th>\n",
       "      <td>AD</td>\n",
       "      <td>2019-01-02</td>\n",
       "      <td>10.825988</td>\n",
       "      <td>10.835076</td>\n",
       "      <td>10.829275</td>\n",
       "      <td>10.828787</td>\n",
       "      <td>0.002811</td>\n",
       "    </tr>\n",
       "    <tr>\n",
       "      <th>2</th>\n",
       "      <td>AD</td>\n",
       "      <td>2019-01-03</td>\n",
       "      <td>10.838720</td>\n",
       "      <td>10.847750</td>\n",
       "      <td>10.841987</td>\n",
       "      <td>10.841502</td>\n",
       "      <td>0.002793</td>\n",
       "    </tr>\n",
       "    <tr>\n",
       "      <th>3</th>\n",
       "      <td>AD</td>\n",
       "      <td>2019-01-04</td>\n",
       "      <td>10.852459</td>\n",
       "      <td>10.861426</td>\n",
       "      <td>10.855703</td>\n",
       "      <td>10.855221</td>\n",
       "      <td>0.002773</td>\n",
       "    </tr>\n",
       "    <tr>\n",
       "      <th>4</th>\n",
       "      <td>AD</td>\n",
       "      <td>2019-01-05</td>\n",
       "      <td>10.867192</td>\n",
       "      <td>10.876092</td>\n",
       "      <td>10.870412</td>\n",
       "      <td>10.869934</td>\n",
       "      <td>0.002752</td>\n",
       "    </tr>\n",
       "  </tbody>\n",
       "</table>\n",
       "</div>"
      ],
      "text/plain": [
       "  country       Date     fd_min     fd_max    fd_mean  fd_median    fd_std\n",
       "0      AD 2019-01-01  10.814271  10.823414  10.817579  10.817088  0.002827\n",
       "1      AD 2019-01-02  10.825988  10.835076  10.829275  10.828787  0.002811\n",
       "2      AD 2019-01-03  10.838720  10.847750  10.841987  10.841502  0.002793\n",
       "3      AD 2019-01-04  10.852459  10.861426  10.855703  10.855221  0.002773\n",
       "4      AD 2019-01-05  10.867192  10.876092  10.870412  10.869934  0.002752"
      ]
     },
     "execution_count": 51,
     "metadata": {},
     "output_type": "execute_result"
    }
   ],
   "source": [
    "conc.reset_index(inplace=True)\n",
    "conc.head()"
   ]
  },
  {
   "cell_type": "code",
   "execution_count": 52,
   "metadata": {
    "ExecuteTime": {
     "end_time": "2019-07-23T11:19:27.023366Z",
     "start_time": "2019-07-23T11:19:26.945412Z"
    }
   },
   "outputs": [
    {
     "data": {
      "text/html": [
       "<div>\n",
       "<style scoped>\n",
       "    .dataframe tbody tr th:only-of-type {\n",
       "        vertical-align: middle;\n",
       "    }\n",
       "\n",
       "    .dataframe tbody tr th {\n",
       "        vertical-align: top;\n",
       "    }\n",
       "\n",
       "    .dataframe thead th {\n",
       "        text-align: right;\n",
       "    }\n",
       "</style>\n",
       "<table border=\"1\" class=\"dataframe\">\n",
       "  <thead>\n",
       "    <tr style=\"text-align: right;\">\n",
       "      <th></th>\n",
       "      <th>fd_min</th>\n",
       "      <th>fd_max</th>\n",
       "      <th>fd_mean</th>\n",
       "      <th>fd_median</th>\n",
       "      <th>fd_std</th>\n",
       "    </tr>\n",
       "  </thead>\n",
       "  <tbody>\n",
       "    <tr>\n",
       "      <th>count</th>\n",
       "      <td>89048.000000</td>\n",
       "      <td>89048.000000</td>\n",
       "      <td>89048.000000</td>\n",
       "      <td>89048.000000</td>\n",
       "      <td>8.261600e+04</td>\n",
       "    </tr>\n",
       "    <tr>\n",
       "      <th>mean</th>\n",
       "      <td>13.482383</td>\n",
       "      <td>13.887837</td>\n",
       "      <td>13.671313</td>\n",
       "      <td>13.669611</td>\n",
       "      <td>9.417080e-02</td>\n",
       "    </tr>\n",
       "    <tr>\n",
       "      <th>std</th>\n",
       "      <td>1.933976</td>\n",
       "      <td>2.155645</td>\n",
       "      <td>1.940573</td>\n",
       "      <td>1.934570</td>\n",
       "      <td>1.658445e-01</td>\n",
       "    </tr>\n",
       "    <tr>\n",
       "      <th>min</th>\n",
       "      <td>4.296197</td>\n",
       "      <td>6.176016</td>\n",
       "      <td>6.176016</td>\n",
       "      <td>6.176016</td>\n",
       "      <td>9.440692e-07</td>\n",
       "    </tr>\n",
       "    <tr>\n",
       "      <th>25%</th>\n",
       "      <td>12.663739</td>\n",
       "      <td>12.832456</td>\n",
       "      <td>12.732530</td>\n",
       "      <td>12.731724</td>\n",
       "      <td>1.084450e-02</td>\n",
       "    </tr>\n",
       "    <tr>\n",
       "      <th>50%</th>\n",
       "      <td>13.287362</td>\n",
       "      <td>13.417201</td>\n",
       "      <td>13.345961</td>\n",
       "      <td>13.344743</td>\n",
       "      <td>4.126357e-02</td>\n",
       "    </tr>\n",
       "    <tr>\n",
       "      <th>75%</th>\n",
       "      <td>14.093849</td>\n",
       "      <td>14.403650</td>\n",
       "      <td>14.250015</td>\n",
       "      <td>14.244971</td>\n",
       "      <td>1.037963e-01</td>\n",
       "    </tr>\n",
       "    <tr>\n",
       "      <th>max</th>\n",
       "      <td>23.602429</td>\n",
       "      <td>23.947205</td>\n",
       "      <td>23.602429</td>\n",
       "      <td>23.602429</td>\n",
       "      <td>2.119213e+00</td>\n",
       "    </tr>\n",
       "  </tbody>\n",
       "</table>\n",
       "</div>"
      ],
      "text/plain": [
       "             fd_min        fd_max       fd_mean     fd_median        fd_std\n",
       "count  89048.000000  89048.000000  89048.000000  89048.000000  8.261600e+04\n",
       "mean      13.482383     13.887837     13.671313     13.669611  9.417080e-02\n",
       "std        1.933976      2.155645      1.940573      1.934570  1.658445e-01\n",
       "min        4.296197      6.176016      6.176016      6.176016  9.440692e-07\n",
       "25%       12.663739     12.832456     12.732530     12.731724  1.084450e-02\n",
       "50%       13.287362     13.417201     13.345961     13.344743  4.126357e-02\n",
       "75%       14.093849     14.403650     14.250015     14.244971  1.037963e-01\n",
       "max       23.602429     23.947205     23.602429     23.602429  2.119213e+00"
      ]
     },
     "execution_count": 52,
     "metadata": {},
     "output_type": "execute_result"
    }
   ],
   "source": [
    "conc.describe()"
   ]
  },
  {
   "cell_type": "code",
   "execution_count": 53,
   "metadata": {
    "ExecuteTime": {
     "end_time": "2019-07-23T11:21:36.628023Z",
     "start_time": "2019-07-23T11:21:34.760169Z"
    }
   },
   "outputs": [],
   "source": [
    "conc.to_csv('../Datasets/ByCountryFastingDurations.csv', index=False)"
   ]
  },
  {
   "cell_type": "code",
   "execution_count": null,
   "metadata": {},
   "outputs": [],
   "source": []
  }
 ],
 "metadata": {
  "kernelspec": {
   "display_name": "Python 3",
   "language": "python",
   "name": "python3"
  },
  "language_info": {
   "codemirror_mode": {
    "name": "ipython",
    "version": 3
   },
   "file_extension": ".py",
   "mimetype": "text/x-python",
   "name": "python",
   "nbconvert_exporter": "python",
   "pygments_lexer": "ipython3",
   "version": "3.7.3"
  }
 },
 "nbformat": 4,
 "nbformat_minor": 2
}
