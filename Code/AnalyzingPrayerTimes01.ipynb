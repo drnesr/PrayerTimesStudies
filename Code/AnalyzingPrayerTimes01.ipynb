{
 "cells": [
  {
   "cell_type": "code",
   "execution_count": 1,
   "metadata": {
    "ExecuteTime": {
     "end_time": "2019-07-22T23:03:50.369335Z",
     "start_time": "2019-07-22T23:03:49.284983Z"
    }
   },
   "outputs": [],
   "source": [
    "import pandas as pd\n",
    "import numpy as np"
   ]
  },
  {
   "cell_type": "markdown",
   "metadata": {},
   "source": [
    "### Test reading first"
   ]
  },
  {
   "cell_type": "code",
   "execution_count": 5,
   "metadata": {
    "ExecuteTime": {
     "end_time": "2019-07-22T23:05:09.928813Z",
     "start_time": "2019-07-22T23:05:09.912822Z"
    }
   },
   "outputs": [],
   "source": [
    "# df = pd.read_csv('../Datasets/Full/all_results_test.csv',\n",
    "#                  dtype={'citi_id': int, 'Date': str, \"Fasting\": float},\n",
    "#                  index_col=[0],\n",
    "#                 parse_dates=['Date'])\n",
    "df = pd.read_csv('../Datasets/Full/all_results_test.csv',\n",
    "                 index_col=[0])"
   ]
  },
  {
   "cell_type": "code",
   "execution_count": 6,
   "metadata": {
    "ExecuteTime": {
     "end_time": "2019-07-22T23:05:15.111720Z",
     "start_time": "2019-07-22T23:05:15.078740Z"
    }
   },
   "outputs": [
    {
     "data": {
      "text/html": [
       "<div>\n",
       "<style scoped>\n",
       "    .dataframe tbody tr th:only-of-type {\n",
       "        vertical-align: middle;\n",
       "    }\n",
       "\n",
       "    .dataframe tbody tr th {\n",
       "        vertical-align: top;\n",
       "    }\n",
       "\n",
       "    .dataframe thead th {\n",
       "        text-align: right;\n",
       "    }\n",
       "</style>\n",
       "<table border=\"1\" class=\"dataframe\">\n",
       "  <thead>\n",
       "    <tr style=\"text-align: right;\">\n",
       "      <th></th>\n",
       "      <th>citi_id</th>\n",
       "      <th>Date</th>\n",
       "      <th>Fasting</th>\n",
       "    </tr>\n",
       "  </thead>\n",
       "  <tbody>\n",
       "    <tr>\n",
       "      <th>0.0</th>\n",
       "      <td>2960</td>\n",
       "      <td>1/1/2019</td>\n",
       "      <td>11.48934384</td>\n",
       "    </tr>\n",
       "    <tr>\n",
       "      <th>1.0</th>\n",
       "      <td>2960</td>\n",
       "      <td>1/2/2019</td>\n",
       "      <td>11.49779764</td>\n",
       "    </tr>\n",
       "    <tr>\n",
       "      <th>2.0</th>\n",
       "      <td>2960</td>\n",
       "      <td>1/3/2019</td>\n",
       "      <td>11.50699453</td>\n",
       "    </tr>\n",
       "    <tr>\n",
       "      <th>3.0</th>\n",
       "      <td>2960</td>\n",
       "      <td>1/4/2019</td>\n",
       "      <td>11.51692784</td>\n",
       "    </tr>\n",
       "    <tr>\n",
       "      <th>4.0</th>\n",
       "      <td>2960</td>\n",
       "      <td>1/5/2019</td>\n",
       "      <td>11.52759042</td>\n",
       "    </tr>\n",
       "  </tbody>\n",
       "</table>\n",
       "</div>"
      ],
      "text/plain": [
       "    citi_id      Date      Fasting\n",
       "0.0    2960  1/1/2019  11.48934384\n",
       "1.0    2960  1/2/2019  11.49779764\n",
       "2.0    2960  1/3/2019  11.50699453\n",
       "3.0    2960  1/4/2019  11.51692784\n",
       "4.0    2960  1/5/2019  11.52759042"
      ]
     },
     "execution_count": 6,
     "metadata": {},
     "output_type": "execute_result"
    }
   ],
   "source": [
    "df.head()"
   ]
  },
  {
   "cell_type": "code",
   "execution_count": 7,
   "metadata": {
    "ExecuteTime": {
     "end_time": "2019-07-22T23:05:17.252446Z",
     "start_time": "2019-07-22T23:05:17.230460Z"
    }
   },
   "outputs": [
    {
     "name": "stdout",
     "output_type": "stream",
     "text": [
      "<class 'pandas.core.frame.DataFrame'>\n",
      "Float64Index: 368 entries, 0.0 to 364.0\n",
      "Data columns (total 3 columns):\n",
      "citi_id    368 non-null object\n",
      "Date       368 non-null object\n",
      "Fasting    368 non-null object\n",
      "dtypes: object(3)\n",
      "memory usage: 11.5+ KB\n"
     ]
    }
   ],
   "source": [
    "df.info()"
   ]
  },
  {
   "cell_type": "code",
   "execution_count": 8,
   "metadata": {
    "ExecuteTime": {
     "end_time": "2019-07-22T23:07:23.798657Z",
     "start_time": "2019-07-22T23:07:23.744672Z"
    }
   },
   "outputs": [],
   "source": [
    "df.citi_id = pd.to_numeric(df.citi_id, errors='coerce')\n",
    "df.Date = pd.to_datetime(df.Date, errors='coerce')\n",
    "df.Fasting = pd.to_numeric(df.Fasting, errors='coerce')"
   ]
  },
  {
   "cell_type": "code",
   "execution_count": 9,
   "metadata": {
    "ExecuteTime": {
     "end_time": "2019-07-22T23:07:30.878283Z",
     "start_time": "2019-07-22T23:07:30.870285Z"
    }
   },
   "outputs": [
    {
     "name": "stdout",
     "output_type": "stream",
     "text": [
      "<class 'pandas.core.frame.DataFrame'>\n",
      "Float64Index: 368 entries, 0.0 to 364.0\n",
      "Data columns (total 3 columns):\n",
      "citi_id    365 non-null float64\n",
      "Date       365 non-null datetime64[ns]\n",
      "Fasting    365 non-null float64\n",
      "dtypes: datetime64[ns](1), float64(2)\n",
      "memory usage: 11.5 KB\n"
     ]
    }
   ],
   "source": [
    "df.info()"
   ]
  },
  {
   "cell_type": "code",
   "execution_count": 11,
   "metadata": {
    "ExecuteTime": {
     "end_time": "2019-07-22T23:09:36.539965Z",
     "start_time": "2019-07-22T23:09:36.532969Z"
    }
   },
   "outputs": [],
   "source": [
    "df.dropna(inplace=True)"
   ]
  },
  {
   "cell_type": "code",
   "execution_count": 12,
   "metadata": {
    "ExecuteTime": {
     "end_time": "2019-07-22T23:09:42.128526Z",
     "start_time": "2019-07-22T23:09:42.123530Z"
    }
   },
   "outputs": [],
   "source": [
    "df.citi_id =df.citi_id.astype(int)"
   ]
  },
  {
   "cell_type": "code",
   "execution_count": 13,
   "metadata": {
    "ExecuteTime": {
     "end_time": "2019-07-22T23:09:50.653699Z",
     "start_time": "2019-07-22T23:09:50.645704Z"
    }
   },
   "outputs": [
    {
     "name": "stdout",
     "output_type": "stream",
     "text": [
      "<class 'pandas.core.frame.DataFrame'>\n",
      "Float64Index: 365 entries, 0.0 to 364.0\n",
      "Data columns (total 3 columns):\n",
      "citi_id    365 non-null int32\n",
      "Date       365 non-null datetime64[ns]\n",
      "Fasting    365 non-null float64\n",
      "dtypes: datetime64[ns](1), float64(1), int32(1)\n",
      "memory usage: 10.0 KB\n"
     ]
    }
   ],
   "source": [
    "df.info()"
   ]
  },
  {
   "cell_type": "markdown",
   "metadata": {},
   "source": [
    "### Reading the full dataset"
   ]
  },
  {
   "cell_type": "code",
   "execution_count": 14,
   "metadata": {
    "ExecuteTime": {
     "end_time": "2019-07-22T23:14:18.445445Z",
     "start_time": "2019-07-22T23:11:47.700468Z"
    }
   },
   "outputs": [
    {
     "name": "stderr",
     "output_type": "stream",
     "text": [
      "C:\\Users\\Drnes\\Anaconda3\\lib\\site-packages\\IPython\\core\\interactiveshell.py:3057: DtypeWarning: Columns (0,1,3) have mixed types. Specify dtype option on import or set low_memory=False.\n",
      "  interactivity=interactivity, compiler=compiler, result=result)\n"
     ]
    },
    {
     "data": {
      "text/html": [
       "<div>\n",
       "<style scoped>\n",
       "    .dataframe tbody tr th:only-of-type {\n",
       "        vertical-align: middle;\n",
       "    }\n",
       "\n",
       "    .dataframe tbody tr th {\n",
       "        vertical-align: top;\n",
       "    }\n",
       "\n",
       "    .dataframe thead th {\n",
       "        text-align: right;\n",
       "    }\n",
       "</style>\n",
       "<table border=\"1\" class=\"dataframe\">\n",
       "  <thead>\n",
       "    <tr style=\"text-align: right;\">\n",
       "      <th></th>\n",
       "      <th>citi_id</th>\n",
       "      <th>Date</th>\n",
       "      <th>Fasting</th>\n",
       "    </tr>\n",
       "  </thead>\n",
       "  <tbody>\n",
       "    <tr>\n",
       "      <th>0.0</th>\n",
       "      <td>2960</td>\n",
       "      <td>2019-01-01</td>\n",
       "      <td>11.489344</td>\n",
       "    </tr>\n",
       "    <tr>\n",
       "      <th>1.0</th>\n",
       "      <td>2960</td>\n",
       "      <td>2019-01-02</td>\n",
       "      <td>11.497798</td>\n",
       "    </tr>\n",
       "    <tr>\n",
       "      <th>2.0</th>\n",
       "      <td>2960</td>\n",
       "      <td>2019-01-03</td>\n",
       "      <td>11.506995</td>\n",
       "    </tr>\n",
       "    <tr>\n",
       "      <th>3.0</th>\n",
       "      <td>2960</td>\n",
       "      <td>2019-01-04</td>\n",
       "      <td>11.516928</td>\n",
       "    </tr>\n",
       "    <tr>\n",
       "      <th>4.0</th>\n",
       "      <td>2960</td>\n",
       "      <td>2019-01-05</td>\n",
       "      <td>11.527590</td>\n",
       "    </tr>\n",
       "  </tbody>\n",
       "</table>\n",
       "</div>"
      ],
      "text/plain": [
       "     citi_id       Date    Fasting\n",
       "0.0     2960 2019-01-01  11.489344\n",
       "1.0     2960 2019-01-02  11.497798\n",
       "2.0     2960 2019-01-03  11.506995\n",
       "3.0     2960 2019-01-04  11.516928\n",
       "4.0     2960 2019-01-05  11.527590"
      ]
     },
     "execution_count": 14,
     "metadata": {},
     "output_type": "execute_result"
    }
   ],
   "source": [
    "df = pd.read_csv('../Datasets/Full/all_results.csv',\n",
    "                 index_col=[0])\n",
    "df.citi_id = pd.to_numeric(df.citi_id, errors='coerce')\n",
    "df.Date = pd.to_datetime(df.Date, errors='coerce')\n",
    "df.Fasting = pd.to_numeric(df.Fasting, errors='coerce')\n",
    "df.dropna(inplace=True)\n",
    "df.citi_id =df.citi_id.astype(int)\n",
    "df.head()"
   ]
  },
  {
   "cell_type": "code",
   "execution_count": 15,
   "metadata": {
    "ExecuteTime": {
     "end_time": "2019-07-22T23:14:18.455439Z",
     "start_time": "2019-07-22T23:14:18.447444Z"
    }
   },
   "outputs": [
    {
     "name": "stdout",
     "output_type": "stream",
     "text": [
      "<class 'pandas.core.frame.DataFrame'>\n",
      "Index: 53146774 entries, 0.0 to 364\n",
      "Data columns (total 3 columns):\n",
      "citi_id    int32\n",
      "Date       datetime64[ns]\n",
      "Fasting    float64\n",
      "dtypes: datetime64[ns](1), float64(1), int32(1)\n",
      "memory usage: 1.4+ GB\n"
     ]
    }
   ],
   "source": [
    "df.info()"
   ]
  },
  {
   "cell_type": "code",
   "execution_count": 17,
   "metadata": {
    "ExecuteTime": {
     "end_time": "2019-07-22T23:14:46.152915Z",
     "start_time": "2019-07-22T23:14:39.699886Z"
    }
   },
   "outputs": [
    {
     "data": {
      "text/html": [
       "<div>\n",
       "<style scoped>\n",
       "    .dataframe tbody tr th:only-of-type {\n",
       "        vertical-align: middle;\n",
       "    }\n",
       "\n",
       "    .dataframe tbody tr th {\n",
       "        vertical-align: top;\n",
       "    }\n",
       "\n",
       "    .dataframe thead th {\n",
       "        text-align: right;\n",
       "    }\n",
       "</style>\n",
       "<table border=\"1\" class=\"dataframe\">\n",
       "  <thead>\n",
       "    <tr style=\"text-align: right;\">\n",
       "      <th></th>\n",
       "      <th>count</th>\n",
       "      <th>mean</th>\n",
       "      <th>std</th>\n",
       "      <th>min</th>\n",
       "      <th>25%</th>\n",
       "      <th>50%</th>\n",
       "      <th>75%</th>\n",
       "      <th>max</th>\n",
       "    </tr>\n",
       "  </thead>\n",
       "  <tbody>\n",
       "    <tr>\n",
       "      <th>citi_id</th>\n",
       "      <td>53146774.0</td>\n",
       "      <td>3.317375e+06</td>\n",
       "      <td>2.215669e+06</td>\n",
       "      <td>2960.000000</td>\n",
       "      <td>1.794733e+06</td>\n",
       "      <td>2.968220e+06</td>\n",
       "      <td>4.013579e+06</td>\n",
       "      <td>1.100285e+07</td>\n",
       "    </tr>\n",
       "    <tr>\n",
       "      <th>Fasting</th>\n",
       "      <td>53146774.0</td>\n",
       "      <td>1.381328e+01</td>\n",
       "      <td>2.362887e+00</td>\n",
       "      <td>4.296197</td>\n",
       "      <td>1.223946e+01</td>\n",
       "      <td>1.344104e+01</td>\n",
       "      <td>1.517764e+01</td>\n",
       "      <td>2.394721e+01</td>\n",
       "    </tr>\n",
       "  </tbody>\n",
       "</table>\n",
       "</div>"
      ],
      "text/plain": [
       "              count          mean           std          min           25%  \\\n",
       "citi_id  53146774.0  3.317375e+06  2.215669e+06  2960.000000  1.794733e+06   \n",
       "Fasting  53146774.0  1.381328e+01  2.362887e+00     4.296197  1.223946e+01   \n",
       "\n",
       "                  50%           75%           max  \n",
       "citi_id  2.968220e+06  4.013579e+06  1.100285e+07  \n",
       "Fasting  1.344104e+01  1.517764e+01  2.394721e+01  "
      ]
     },
     "execution_count": 17,
     "metadata": {},
     "output_type": "execute_result"
    }
   ],
   "source": [
    "df.describe().T"
   ]
  },
  {
   "cell_type": "code",
   "execution_count": 21,
   "metadata": {
    "ExecuteTime": {
     "end_time": "2019-07-22T23:17:03.867251Z",
     "start_time": "2019-07-22T23:17:00.530304Z"
    }
   },
   "outputs": [
    {
     "data": {
      "text/html": [
       "<div>\n",
       "<style scoped>\n",
       "    .dataframe tbody tr th:only-of-type {\n",
       "        vertical-align: middle;\n",
       "    }\n",
       "\n",
       "    .dataframe tbody tr th {\n",
       "        vertical-align: top;\n",
       "    }\n",
       "\n",
       "    .dataframe thead th {\n",
       "        text-align: right;\n",
       "    }\n",
       "</style>\n",
       "<table border=\"1\" class=\"dataframe\">\n",
       "  <thead>\n",
       "    <tr style=\"text-align: right;\">\n",
       "      <th></th>\n",
       "      <th>count</th>\n",
       "      <th>mean</th>\n",
       "      <th>std</th>\n",
       "      <th>min</th>\n",
       "      <th>25%</th>\n",
       "      <th>50%</th>\n",
       "      <th>75%</th>\n",
       "      <th>max</th>\n",
       "    </tr>\n",
       "  </thead>\n",
       "  <tbody>\n",
       "    <tr>\n",
       "      <th>Fasting</th>\n",
       "      <td>53146774.0</td>\n",
       "      <td>13.813282</td>\n",
       "      <td>2.362887</td>\n",
       "      <td>4.296197</td>\n",
       "      <td>12.239461</td>\n",
       "      <td>13.441043</td>\n",
       "      <td>15.177638</td>\n",
       "      <td>23.947205</td>\n",
       "    </tr>\n",
       "  </tbody>\n",
       "</table>\n",
       "</div>"
      ],
      "text/plain": [
       "              count       mean       std       min        25%        50%  \\\n",
       "Fasting  53146774.0  13.813282  2.362887  4.296197  12.239461  13.441043   \n",
       "\n",
       "               75%        max  \n",
       "Fasting  15.177638  23.947205  "
      ]
     },
     "execution_count": 21,
     "metadata": {},
     "output_type": "execute_result"
    }
   ],
   "source": [
    "df.Fasting.describe().to_frame().T"
   ]
  },
  {
   "cell_type": "code",
   "execution_count": null,
   "metadata": {},
   "outputs": [],
   "source": []
  }
 ],
 "metadata": {
  "kernelspec": {
   "display_name": "Python 3",
   "language": "python",
   "name": "python3"
  },
  "language_info": {
   "codemirror_mode": {
    "name": "ipython",
    "version": 3
   },
   "file_extension": ".py",
   "mimetype": "text/x-python",
   "name": "python",
   "nbconvert_exporter": "python",
   "pygments_lexer": "ipython3",
   "version": "3.7.3"
  }
 },
 "nbformat": 4,
 "nbformat_minor": 2
}
