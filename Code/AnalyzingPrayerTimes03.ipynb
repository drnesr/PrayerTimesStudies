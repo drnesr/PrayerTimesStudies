{
 "cells": [
  {
   "cell_type": "code",
   "execution_count": 1,
   "metadata": {
    "ExecuteTime": {
     "end_time": "2019-08-05T22:47:51.970934Z",
     "start_time": "2019-08-05T22:47:50.497845Z"
    }
   },
   "outputs": [],
   "source": [
    "import numpy as np\n",
    "import pandas as pd"
   ]
  },
  {
   "cell_type": "code",
   "execution_count": 2,
   "metadata": {
    "ExecuteTime": {
     "end_time": "2019-08-05T22:49:47.011257Z",
     "start_time": "2019-08-05T22:49:47.008259Z"
    }
   },
   "outputs": [],
   "source": [
    "src1='../Datasets/AllCities.csv'\n",
    "src2='../Datasets/FUll/all_results2.zip'"
   ]
  },
  {
   "cell_type": "code",
   "execution_count": 3,
   "metadata": {
    "ExecuteTime": {
     "end_time": "2019-08-05T22:50:39.406882Z",
     "start_time": "2019-08-05T22:50:39.130054Z"
    }
   },
   "outputs": [
    {
     "data": {
      "text/html": [
       "<div>\n",
       "<style scoped>\n",
       "    .dataframe tbody tr th:only-of-type {\n",
       "        vertical-align: middle;\n",
       "    }\n",
       "\n",
       "    .dataframe tbody tr th {\n",
       "        vertical-align: top;\n",
       "    }\n",
       "\n",
       "    .dataframe thead th {\n",
       "        text-align: right;\n",
       "    }\n",
       "</style>\n",
       "<table border=\"1\" class=\"dataframe\">\n",
       "  <thead>\n",
       "    <tr style=\"text-align: right;\">\n",
       "      <th></th>\n",
       "      <th>id</th>\n",
       "      <th>country</th>\n",
       "      <th>city_name</th>\n",
       "      <th>lat</th>\n",
       "      <th>lng</th>\n",
       "      <th>alt</th>\n",
       "      <th>population</th>\n",
       "      <th>utc</th>\n",
       "      <th>mazhab</th>\n",
       "    </tr>\n",
       "  </thead>\n",
       "  <tbody>\n",
       "    <tr>\n",
       "      <th>0</th>\n",
       "      <td>2960</td>\n",
       "      <td>SY</td>\n",
       "      <td>`Ayn Halaqim</td>\n",
       "      <td>34.93998</td>\n",
       "      <td>36.32212</td>\n",
       "      <td>596</td>\n",
       "      <td>0</td>\n",
       "      <td>2.0</td>\n",
       "      <td>3</td>\n",
       "    </tr>\n",
       "  </tbody>\n",
       "</table>\n",
       "</div>"
      ],
      "text/plain": [
       "     id country     city_name       lat       lng  alt  population  utc  \\\n",
       "0  2960      SY  `Ayn Halaqim  34.93998  36.32212  596           0  2.0   \n",
       "\n",
       "   mazhab  \n",
       "0       3  "
      ]
     },
     "execution_count": 3,
     "metadata": {},
     "output_type": "execute_result"
    }
   ],
   "source": [
    "cities = pd.read_csv(src1)\n",
    "cities.head(1)"
   ]
  },
  {
   "cell_type": "code",
   "execution_count": 4,
   "metadata": {
    "ExecuteTime": {
     "end_time": "2019-08-05T22:51:40.823820Z",
     "start_time": "2019-08-05T22:51:04.470396Z"
    }
   },
   "outputs": [
    {
     "data": {
      "text/html": [
       "<div>\n",
       "<style scoped>\n",
       "    .dataframe tbody tr th:only-of-type {\n",
       "        vertical-align: middle;\n",
       "    }\n",
       "\n",
       "    .dataframe tbody tr th {\n",
       "        vertical-align: top;\n",
       "    }\n",
       "\n",
       "    .dataframe thead th {\n",
       "        text-align: right;\n",
       "    }\n",
       "</style>\n",
       "<table border=\"1\" class=\"dataframe\">\n",
       "  <thead>\n",
       "    <tr style=\"text-align: right;\">\n",
       "      <th></th>\n",
       "      <th>citi_id</th>\n",
       "      <th>Date</th>\n",
       "      <th>Fasting</th>\n",
       "    </tr>\n",
       "  </thead>\n",
       "  <tbody>\n",
       "    <tr>\n",
       "      <th>0</th>\n",
       "      <td>2960</td>\n",
       "      <td>2019-01-01</td>\n",
       "      <td>11.489344</td>\n",
       "    </tr>\n",
       "  </tbody>\n",
       "</table>\n",
       "</div>"
      ],
      "text/plain": [
       "   citi_id        Date    Fasting\n",
       "0     2960  2019-01-01  11.489344"
      ]
     },
     "execution_count": 4,
     "metadata": {},
     "output_type": "execute_result"
    }
   ],
   "source": [
    "fasting = pd.read_csv(src2)\n",
    "fasting.head(1)"
   ]
  },
  {
   "cell_type": "code",
   "execution_count": 7,
   "metadata": {
    "ExecuteTime": {
     "end_time": "2019-08-05T22:55:09.472009Z",
     "start_time": "2019-08-05T22:55:09.435032Z"
    }
   },
   "outputs": [
    {
     "data": {
      "text/html": [
       "<div>\n",
       "<style scoped>\n",
       "    .dataframe tbody tr th:only-of-type {\n",
       "        vertical-align: middle;\n",
       "    }\n",
       "\n",
       "    .dataframe tbody tr th {\n",
       "        vertical-align: top;\n",
       "    }\n",
       "\n",
       "    .dataframe thead th {\n",
       "        text-align: right;\n",
       "    }\n",
       "</style>\n",
       "<table border=\"1\" class=\"dataframe\">\n",
       "  <thead>\n",
       "    <tr style=\"text-align: right;\">\n",
       "      <th></th>\n",
       "      <th>id</th>\n",
       "      <th>country</th>\n",
       "      <th>city_name</th>\n",
       "      <th>lat</th>\n",
       "      <th>lng</th>\n",
       "      <th>alt</th>\n",
       "      <th>population</th>\n",
       "      <th>utc</th>\n",
       "      <th>mazhab</th>\n",
       "    </tr>\n",
       "  </thead>\n",
       "  <tbody>\n",
       "    <tr>\n",
       "      <th>439</th>\n",
       "      <td>104515</td>\n",
       "      <td>SA</td>\n",
       "      <td>Mecca</td>\n",
       "      <td>21.42664</td>\n",
       "      <td>39.82563</td>\n",
       "      <td>333</td>\n",
       "      <td>1323624</td>\n",
       "      <td>3.0</td>\n",
       "      <td>4</td>\n",
       "    </tr>\n",
       "  </tbody>\n",
       "</table>\n",
       "</div>"
      ],
      "text/plain": [
       "         id country city_name       lat       lng  alt  population  utc  \\\n",
       "439  104515      SA     Mecca  21.42664  39.82563  333     1323624  3.0   \n",
       "\n",
       "     mazhab  \n",
       "439       4  "
      ]
     },
     "execution_count": 7,
     "metadata": {},
     "output_type": "execute_result"
    }
   ],
   "source": [
    "Makkah = cities[(cities.country=='SA')&(cities.city_name=='Mecca')]\n",
    "Makkah"
   ]
  },
  {
   "cell_type": "code",
   "execution_count": 15,
   "metadata": {
    "ExecuteTime": {
     "end_time": "2019-08-05T22:56:50.743338Z",
     "start_time": "2019-08-05T22:56:50.737341Z"
    }
   },
   "outputs": [
    {
     "data": {
      "text/plain": [
       "104515"
      ]
     },
     "execution_count": 15,
     "metadata": {},
     "output_type": "execute_result"
    }
   ],
   "source": [
    "Makkah_id = Makkah.id.tolist()[0]\n",
    "Makkah_id"
   ]
  },
  {
   "cell_type": "code",
   "execution_count": 18,
   "metadata": {
    "ExecuteTime": {
     "end_time": "2019-08-05T22:57:48.197999Z",
     "start_time": "2019-08-05T22:57:48.081071Z"
    }
   },
   "outputs": [
    {
     "data": {
      "text/html": [
       "<div>\n",
       "<style scoped>\n",
       "    .dataframe tbody tr th:only-of-type {\n",
       "        vertical-align: middle;\n",
       "    }\n",
       "\n",
       "    .dataframe tbody tr th {\n",
       "        vertical-align: top;\n",
       "    }\n",
       "\n",
       "    .dataframe thead th {\n",
       "        text-align: right;\n",
       "    }\n",
       "</style>\n",
       "<table border=\"1\" class=\"dataframe\">\n",
       "  <thead>\n",
       "    <tr style=\"text-align: right;\">\n",
       "      <th></th>\n",
       "      <th>citi_id</th>\n",
       "      <th>Date</th>\n",
       "      <th>Fasting</th>\n",
       "    </tr>\n",
       "  </thead>\n",
       "  <tbody>\n",
       "    <tr>\n",
       "      <th>160351</th>\n",
       "      <td>104515</td>\n",
       "      <td>2019-04-27</td>\n",
       "      <td>14.199409</td>\n",
       "    </tr>\n",
       "    <tr>\n",
       "      <th>160294</th>\n",
       "      <td>104515</td>\n",
       "      <td>2019-03-01</td>\n",
       "      <td>12.986552</td>\n",
       "    </tr>\n",
       "    <tr>\n",
       "      <th>160247</th>\n",
       "      <td>104515</td>\n",
       "      <td>2019-01-13</td>\n",
       "      <td>12.290947</td>\n",
       "    </tr>\n",
       "  </tbody>\n",
       "</table>\n",
       "</div>"
      ],
      "text/plain": [
       "        citi_id        Date    Fasting\n",
       "160351   104515  2019-04-27  14.199409\n",
       "160294   104515  2019-03-01  12.986552\n",
       "160247   104515  2019-01-13  12.290947"
      ]
     },
     "execution_count": 18,
     "metadata": {},
     "output_type": "execute_result"
    }
   ],
   "source": [
    "Makkah_df = fasting[fasting.citi_id==Makkah_id]\n",
    "Makkah_df.sample(3)"
   ]
  },
  {
   "cell_type": "code",
   "execution_count": 19,
   "metadata": {
    "ExecuteTime": {
     "end_time": "2019-08-05T22:58:47.267651Z",
     "start_time": "2019-08-05T22:58:47.022802Z"
    }
   },
   "outputs": [
    {
     "name": "stderr",
     "output_type": "stream",
     "text": [
      "C:\\Users\\Drnes\\Anaconda3\\lib\\site-packages\\ipykernel_launcher.py:1: SettingWithCopyWarning: \n",
      "A value is trying to be set on a copy of a slice from a DataFrame.\n",
      "Try using .loc[row_indexer,col_indexer] = value instead\n",
      "\n",
      "See the caveats in the documentation: http://pandas.pydata.org/pandas-docs/stable/indexing.html#indexing-view-versus-copy\n",
      "  \"\"\"Entry point for launching an IPython kernel.\n",
      "C:\\Users\\Drnes\\Anaconda3\\lib\\site-packages\\ipykernel_launcher.py:2: SettingWithCopyWarning: \n",
      "A value is trying to be set on a copy of a slice from a DataFrame.\n",
      "Try using .loc[row_indexer,col_indexer] = value instead\n",
      "\n",
      "See the caveats in the documentation: http://pandas.pydata.org/pandas-docs/stable/indexing.html#indexing-view-versus-copy\n",
      "  \n"
     ]
    },
    {
     "data": {
      "text/html": [
       "<div>\n",
       "<style scoped>\n",
       "    .dataframe tbody tr th:only-of-type {\n",
       "        vertical-align: middle;\n",
       "    }\n",
       "\n",
       "    .dataframe tbody tr th {\n",
       "        vertical-align: top;\n",
       "    }\n",
       "\n",
       "    .dataframe thead th {\n",
       "        text-align: right;\n",
       "    }\n",
       "</style>\n",
       "<table border=\"1\" class=\"dataframe\">\n",
       "  <thead>\n",
       "    <tr style=\"text-align: right;\">\n",
       "      <th></th>\n",
       "      <th>citi_id</th>\n",
       "      <th>Date</th>\n",
       "      <th>Fasting</th>\n",
       "      <th>D</th>\n",
       "      <th>M</th>\n",
       "    </tr>\n",
       "  </thead>\n",
       "  <tbody>\n",
       "    <tr>\n",
       "      <th>160580</th>\n",
       "      <td>104515</td>\n",
       "      <td>2019-12-12</td>\n",
       "      <td>12.210860</td>\n",
       "      <td>12</td>\n",
       "      <td>12</td>\n",
       "    </tr>\n",
       "    <tr>\n",
       "      <th>160353</th>\n",
       "      <td>104515</td>\n",
       "      <td>2019-04-29</td>\n",
       "      <td>14.241147</td>\n",
       "      <td>29</td>\n",
       "      <td>4</td>\n",
       "    </tr>\n",
       "    <tr>\n",
       "      <th>160247</th>\n",
       "      <td>104515</td>\n",
       "      <td>2019-01-13</td>\n",
       "      <td>12.290947</td>\n",
       "      <td>13</td>\n",
       "      <td>1</td>\n",
       "    </tr>\n",
       "  </tbody>\n",
       "</table>\n",
       "</div>"
      ],
      "text/plain": [
       "        citi_id        Date    Fasting   D   M\n",
       "160580   104515  2019-12-12  12.210860  12  12\n",
       "160353   104515  2019-04-29  14.241147  29   4\n",
       "160247   104515  2019-01-13  12.290947  13   1"
      ]
     },
     "execution_count": 19,
     "metadata": {},
     "output_type": "execute_result"
    }
   ],
   "source": [
    "Makkah_df['D'] = pd.DatetimeIndex(Makkah_df.Date).day\n",
    "Makkah_df['M'] = pd.DatetimeIndex(Makkah_df.Date).month\n",
    "Makkah_df.sample(3)"
   ]
  },
  {
   "cell_type": "code",
   "execution_count": 36,
   "metadata": {
    "ExecuteTime": {
     "end_time": "2019-08-05T23:12:11.344998Z",
     "start_time": "2019-08-05T23:12:11.331006Z"
    }
   },
   "outputs": [
    {
     "data": {
      "text/html": [
       "<div>\n",
       "<style scoped>\n",
       "    .dataframe tbody tr th:only-of-type {\n",
       "        vertical-align: middle;\n",
       "    }\n",
       "\n",
       "    .dataframe tbody tr th {\n",
       "        vertical-align: top;\n",
       "    }\n",
       "\n",
       "    .dataframe thead th {\n",
       "        text-align: right;\n",
       "    }\n",
       "</style>\n",
       "<table border=\"1\" class=\"dataframe\">\n",
       "  <thead>\n",
       "    <tr style=\"text-align: right;\">\n",
       "      <th></th>\n",
       "      <th>citi_id</th>\n",
       "      <th>Date</th>\n",
       "      <th>Fasting</th>\n",
       "      <th>D</th>\n",
       "      <th>M</th>\n",
       "    </tr>\n",
       "  </thead>\n",
       "  <tbody>\n",
       "    <tr>\n",
       "      <th>160325</th>\n",
       "      <td>104515</td>\n",
       "      <td>2019-04-01</td>\n",
       "      <td>13.633283</td>\n",
       "      <td>1</td>\n",
       "      <td>4</td>\n",
       "    </tr>\n",
       "    <tr>\n",
       "      <th>160430</th>\n",
       "      <td>104515</td>\n",
       "      <td>2019-07-15</td>\n",
       "      <td>14.755609</td>\n",
       "      <td>15</td>\n",
       "      <td>7</td>\n",
       "    </tr>\n",
       "    <tr>\n",
       "      <th>160369</th>\n",
       "      <td>104515</td>\n",
       "      <td>2019-05-15</td>\n",
       "      <td>14.549266</td>\n",
       "      <td>15</td>\n",
       "      <td>5</td>\n",
       "    </tr>\n",
       "  </tbody>\n",
       "</table>\n",
       "</div>"
      ],
      "text/plain": [
       "        citi_id        Date    Fasting   D  M\n",
       "160325   104515  2019-04-01  13.633283   1  4\n",
       "160430   104515  2019-07-15  14.755609  15  7\n",
       "160369   104515  2019-05-15  14.549266  15  5"
      ]
     },
     "metadata": {},
     "output_type": "display_data"
    },
    {
     "data": {
      "text/plain": [
       "(48, 5)"
      ]
     },
     "metadata": {},
     "output_type": "display_data"
    }
   ],
   "source": [
    "Makkah_df2 = Makkah_df[Makkah_df.D.isin([1,7,15,23])]\n",
    "display(Makkah_df2.sample(3), Makkah_df2.shape)"
   ]
  },
  {
   "cell_type": "code",
   "execution_count": 37,
   "metadata": {
    "ExecuteTime": {
     "end_time": "2019-08-05T23:12:12.497282Z",
     "start_time": "2019-08-05T23:12:12.247436Z"
    }
   },
   "outputs": [
    {
     "name": "stderr",
     "output_type": "stream",
     "text": [
      "C:\\Users\\Drnes\\Anaconda3\\lib\\site-packages\\ipykernel_launcher.py:2: SettingWithCopyWarning: \n",
      "A value is trying to be set on a copy of a slice from a DataFrame.\n",
      "Try using .loc[row_indexer,col_indexer] = value instead\n",
      "\n",
      "See the caveats in the documentation: http://pandas.pydata.org/pandas-docs/stable/indexing.html#indexing-view-versus-copy\n",
      "  \n",
      "C:\\Users\\Drnes\\Anaconda3\\lib\\site-packages\\ipykernel_launcher.py:3: SettingWithCopyWarning: \n",
      "A value is trying to be set on a copy of a slice from a DataFrame.\n",
      "Try using .loc[row_indexer,col_indexer] = value instead\n",
      "\n",
      "See the caveats in the documentation: http://pandas.pydata.org/pandas-docs/stable/indexing.html#indexing-view-versus-copy\n",
      "  This is separate from the ipykernel package so we can avoid doing imports until\n"
     ]
    },
    {
     "data": {
      "text/html": [
       "<div>\n",
       "<style scoped>\n",
       "    .dataframe tbody tr th:only-of-type {\n",
       "        vertical-align: middle;\n",
       "    }\n",
       "\n",
       "    .dataframe tbody tr th {\n",
       "        vertical-align: top;\n",
       "    }\n",
       "\n",
       "    .dataframe thead th {\n",
       "        text-align: right;\n",
       "    }\n",
       "</style>\n",
       "<table border=\"1\" class=\"dataframe\">\n",
       "  <thead>\n",
       "    <tr style=\"text-align: right;\">\n",
       "      <th></th>\n",
       "      <th>citi_id</th>\n",
       "      <th>Date</th>\n",
       "      <th>Fasting</th>\n",
       "      <th>D</th>\n",
       "      <th>M</th>\n",
       "      <th>Animation</th>\n",
       "      <th>Anim</th>\n",
       "    </tr>\n",
       "  </thead>\n",
       "  <tbody>\n",
       "    <tr>\n",
       "      <th>160386</th>\n",
       "      <td>104515</td>\n",
       "      <td>2019-06-01</td>\n",
       "      <td>14.793379</td>\n",
       "      <td>1</td>\n",
       "      <td>6</td>\n",
       "      <td>6.00</td>\n",
       "      <td>601</td>\n",
       "    </tr>\n",
       "    <tr>\n",
       "      <th>160308</th>\n",
       "      <td>104515</td>\n",
       "      <td>2019-03-15</td>\n",
       "      <td>13.268491</td>\n",
       "      <td>15</td>\n",
       "      <td>3</td>\n",
       "      <td>3.50</td>\n",
       "      <td>315</td>\n",
       "    </tr>\n",
       "    <tr>\n",
       "      <th>160575</th>\n",
       "      <td>104515</td>\n",
       "      <td>2019-12-07</td>\n",
       "      <td>12.234908</td>\n",
       "      <td>7</td>\n",
       "      <td>12</td>\n",
       "      <td>12.25</td>\n",
       "      <td>1207</td>\n",
       "    </tr>\n",
       "  </tbody>\n",
       "</table>\n",
       "</div>"
      ],
      "text/plain": [
       "        citi_id        Date    Fasting   D   M  Animation  Anim\n",
       "160386   104515  2019-06-01  14.793379   1   6       6.00   601\n",
       "160308   104515  2019-03-15  13.268491  15   3       3.50   315\n",
       "160575   104515  2019-12-07  12.234908   7  12      12.25  1207"
      ]
     },
     "execution_count": 37,
     "metadata": {},
     "output_type": "execute_result"
    }
   ],
   "source": [
    "day_dict = {1: 0, 7: 0.25, 15: 0.5, 23: 0.75}\n",
    "Makkah_df2['Animation'] = Makkah_df2.apply(lambda row: row.M+day_dict[row.D], axis=1)\n",
    "Makkah_df2['Anim'] = Makkah_df2.apply(lambda row: row.M*100+row.D, axis=1)\n",
    "Makkah_df2.sample(3)"
   ]
  },
  {
   "cell_type": "code",
   "execution_count": 34,
   "metadata": {
    "ExecuteTime": {
     "end_time": "2019-08-05T23:08:48.834820Z",
     "start_time": "2019-08-05T23:08:48.830823Z"
    }
   },
   "outputs": [],
   "source": [
    "# Makkah_df2.assign(Anim=0)\n",
    "# Makkah_df2['Anim'] = Makkah_df2.apply(lambda row: row.M+day_dict[row.D], axis=1)"
   ]
  },
  {
   "cell_type": "code",
   "execution_count": 38,
   "metadata": {
    "ExecuteTime": {
     "end_time": "2019-08-05T23:12:20.441555Z",
     "start_time": "2019-08-05T23:12:20.307637Z"
    }
   },
   "outputs": [
    {
     "name": "stderr",
     "output_type": "stream",
     "text": [
      "C:\\Users\\Drnes\\Anaconda3\\lib\\site-packages\\ipykernel_launcher.py:6: SettingWithCopyWarning: \n",
      "A value is trying to be set on a copy of a slice from a DataFrame.\n",
      "Try using .loc[row_indexer,col_indexer] = value instead\n",
      "\n",
      "See the caveats in the documentation: http://pandas.pydata.org/pandas-docs/stable/indexing.html#indexing-view-versus-copy\n",
      "  \n"
     ]
    },
    {
     "data": {
      "text/html": [
       "<div>\n",
       "<style scoped>\n",
       "    .dataframe tbody tr th:only-of-type {\n",
       "        vertical-align: middle;\n",
       "    }\n",
       "\n",
       "    .dataframe tbody tr th {\n",
       "        vertical-align: top;\n",
       "    }\n",
       "\n",
       "    .dataframe thead th {\n",
       "        text-align: right;\n",
       "    }\n",
       "</style>\n",
       "<table border=\"1\" class=\"dataframe\">\n",
       "  <thead>\n",
       "    <tr style=\"text-align: right;\">\n",
       "      <th></th>\n",
       "      <th>citi_id</th>\n",
       "      <th>Date</th>\n",
       "      <th>Fasting</th>\n",
       "      <th>D</th>\n",
       "      <th>M</th>\n",
       "      <th>Animation</th>\n",
       "      <th>Anim</th>\n",
       "      <th>MakkahFasting</th>\n",
       "    </tr>\n",
       "  </thead>\n",
       "  <tbody>\n",
       "    <tr>\n",
       "      <th>160257</th>\n",
       "      <td>104515</td>\n",
       "      <td>2019-01-23</td>\n",
       "      <td>12.393009</td>\n",
       "      <td>23</td>\n",
       "      <td>1</td>\n",
       "      <td>1.75</td>\n",
       "      <td>123</td>\n",
       "      <td>12:23</td>\n",
       "    </tr>\n",
       "    <tr>\n",
       "      <th>160249</th>\n",
       "      <td>104515</td>\n",
       "      <td>2019-01-15</td>\n",
       "      <td>12.308772</td>\n",
       "      <td>15</td>\n",
       "      <td>1</td>\n",
       "      <td>1.50</td>\n",
       "      <td>115</td>\n",
       "      <td>12:18</td>\n",
       "    </tr>\n",
       "    <tr>\n",
       "      <th>160300</th>\n",
       "      <td>104515</td>\n",
       "      <td>2019-03-07</td>\n",
       "      <td>13.104735</td>\n",
       "      <td>7</td>\n",
       "      <td>3</td>\n",
       "      <td>3.25</td>\n",
       "      <td>307</td>\n",
       "      <td>13:06</td>\n",
       "    </tr>\n",
       "    <tr>\n",
       "      <th>160235</th>\n",
       "      <td>104515</td>\n",
       "      <td>2019-01-01</td>\n",
       "      <td>12.213980</td>\n",
       "      <td>1</td>\n",
       "      <td>1</td>\n",
       "      <td>1.00</td>\n",
       "      <td>101</td>\n",
       "      <td>12:12</td>\n",
       "    </tr>\n",
       "    <tr>\n",
       "      <th>160553</th>\n",
       "      <td>104515</td>\n",
       "      <td>2019-11-15</td>\n",
       "      <td>12.443450</td>\n",
       "      <td>15</td>\n",
       "      <td>11</td>\n",
       "      <td>11.50</td>\n",
       "      <td>1115</td>\n",
       "      <td>12:26</td>\n",
       "    </tr>\n",
       "  </tbody>\n",
       "</table>\n",
       "</div>"
      ],
      "text/plain": [
       "        citi_id        Date    Fasting   D   M  Animation  Anim MakkahFasting\n",
       "160257   104515  2019-01-23  12.393009  23   1       1.75   123         12:23\n",
       "160249   104515  2019-01-15  12.308772  15   1       1.50   115         12:18\n",
       "160300   104515  2019-03-07  13.104735   7   3       3.25   307         13:06\n",
       "160235   104515  2019-01-01  12.213980   1   1       1.00   101         12:12\n",
       "160553   104515  2019-11-15  12.443450  15  11      11.50  1115         12:26"
      ]
     },
     "execution_count": 38,
     "metadata": {},
     "output_type": "execute_result"
    }
   ],
   "source": [
    "def convert_time(float_time):\n",
    "    int_part=int(float_time)\n",
    "    minutes_part=int((float_time-int_part)*60)\n",
    "    return f'{int_part:02d}:{minutes_part:02d}'\n",
    "\n",
    "Makkah_df2['MakkahFasting']= Makkah_df2.Fasting.apply(convert_time)\n",
    "Makkah_df2.sample(5)"
   ]
  },
  {
   "cell_type": "code",
   "execution_count": 57,
   "metadata": {
    "ExecuteTime": {
     "end_time": "2019-08-06T19:55:56.744947Z",
     "start_time": "2019-08-06T19:55:56.739950Z"
    }
   },
   "outputs": [
    {
     "data": {
      "text/plain": [
       "(48, 8)"
      ]
     },
     "execution_count": 57,
     "metadata": {},
     "output_type": "execute_result"
    }
   ],
   "source": [
    "Makkah_df2.shape"
   ]
  },
  {
   "cell_type": "code",
   "execution_count": 58,
   "metadata": {
    "ExecuteTime": {
     "end_time": "2019-08-06T19:58:42.201834Z",
     "start_time": "2019-08-06T19:58:42.176852Z"
    }
   },
   "outputs": [
    {
     "data": {
      "text/html": [
       "<div>\n",
       "<style scoped>\n",
       "    .dataframe tbody tr th:only-of-type {\n",
       "        vertical-align: middle;\n",
       "    }\n",
       "\n",
       "    .dataframe tbody tr th {\n",
       "        vertical-align: top;\n",
       "    }\n",
       "\n",
       "    .dataframe thead th {\n",
       "        text-align: right;\n",
       "    }\n",
       "</style>\n",
       "<table border=\"1\" class=\"dataframe\">\n",
       "  <thead>\n",
       "    <tr style=\"text-align: right;\">\n",
       "      <th></th>\n",
       "      <th>Anim</th>\n",
       "      <th>min_fd</th>\n",
       "      <th>max_fd</th>\n",
       "      <th>world_avg_fd</th>\n",
       "      <th>SaudiaAvgDuration</th>\n",
       "      <th>MinCntryIso3</th>\n",
       "      <th>MaxCntryIso3</th>\n",
       "      <th>MinCntryName</th>\n",
       "      <th>MaxCntryName</th>\n",
       "    </tr>\n",
       "  </thead>\n",
       "  <tbody>\n",
       "    <tr>\n",
       "      <th>0</th>\n",
       "      <td>101</td>\n",
       "      <td>4.582942</td>\n",
       "      <td>20.598683</td>\n",
       "      <td>12.358328</td>\n",
       "      <td>12:03</td>\n",
       "      <td>NOR</td>\n",
       "      <td>ARG</td>\n",
       "      <td>Norway</td>\n",
       "      <td>Argentina</td>\n",
       "    </tr>\n",
       "  </tbody>\n",
       "</table>\n",
       "</div>"
      ],
      "text/plain": [
       "   Anim    min_fd     max_fd  world_avg_fd SaudiaAvgDuration MinCntryIso3  \\\n",
       "0   101  4.582942  20.598683     12.358328             12:03          NOR   \n",
       "\n",
       "  MaxCntryIso3 MinCntryName MaxCntryName  \n",
       "0          ARG       Norway    Argentina  "
      ]
     },
     "execution_count": 58,
     "metadata": {},
     "output_type": "execute_result"
    }
   ],
   "source": [
    "# Get the other dataset\n",
    "df6= pd.read_csv('../Datasets/QuarterlyPeaks.csv')\n",
    "df6.head(1)"
   ]
  },
  {
   "cell_type": "code",
   "execution_count": 59,
   "metadata": {
    "ExecuteTime": {
     "end_time": "2019-08-06T19:58:44.722272Z",
     "start_time": "2019-08-06T19:58:44.718274Z"
    }
   },
   "outputs": [
    {
     "data": {
      "text/plain": [
       "(48, 9)"
      ]
     },
     "execution_count": 59,
     "metadata": {},
     "output_type": "execute_result"
    }
   ],
   "source": [
    "df6.shape"
   ]
  },
  {
   "cell_type": "code",
   "execution_count": 60,
   "metadata": {
    "ExecuteTime": {
     "end_time": "2019-08-06T19:58:48.041210Z",
     "start_time": "2019-08-06T19:58:48.015226Z"
    }
   },
   "outputs": [
    {
     "data": {
      "text/html": [
       "<div>\n",
       "<style scoped>\n",
       "    .dataframe tbody tr th:only-of-type {\n",
       "        vertical-align: middle;\n",
       "    }\n",
       "\n",
       "    .dataframe tbody tr th {\n",
       "        vertical-align: top;\n",
       "    }\n",
       "\n",
       "    .dataframe thead th {\n",
       "        text-align: right;\n",
       "    }\n",
       "</style>\n",
       "<table border=\"1\" class=\"dataframe\">\n",
       "  <thead>\n",
       "    <tr style=\"text-align: right;\">\n",
       "      <th></th>\n",
       "      <th>citi_id</th>\n",
       "      <th>Date</th>\n",
       "      <th>Fasting</th>\n",
       "      <th>D</th>\n",
       "      <th>M</th>\n",
       "      <th>Animation</th>\n",
       "      <th>Anim</th>\n",
       "      <th>MakkahFasting</th>\n",
       "      <th>min_fd</th>\n",
       "      <th>max_fd</th>\n",
       "      <th>world_avg_fd</th>\n",
       "      <th>SaudiaAvgDuration</th>\n",
       "      <th>MinCntryIso3</th>\n",
       "      <th>MaxCntryIso3</th>\n",
       "      <th>MinCntryName</th>\n",
       "      <th>MaxCntryName</th>\n",
       "    </tr>\n",
       "  </thead>\n",
       "  <tbody>\n",
       "    <tr>\n",
       "      <th>0</th>\n",
       "      <td>104515</td>\n",
       "      <td>2019-01-01</td>\n",
       "      <td>12.213980</td>\n",
       "      <td>1</td>\n",
       "      <td>1</td>\n",
       "      <td>1.00</td>\n",
       "      <td>101</td>\n",
       "      <td>12:12</td>\n",
       "      <td>4.582942</td>\n",
       "      <td>20.598683</td>\n",
       "      <td>12.358328</td>\n",
       "      <td>12:03</td>\n",
       "      <td>NOR</td>\n",
       "      <td>ARG</td>\n",
       "      <td>Norway</td>\n",
       "      <td>Argentina</td>\n",
       "    </tr>\n",
       "    <tr>\n",
       "      <th>1</th>\n",
       "      <td>104515</td>\n",
       "      <td>2019-01-07</td>\n",
       "      <td>12.245843</td>\n",
       "      <td>7</td>\n",
       "      <td>1</td>\n",
       "      <td>1.25</td>\n",
       "      <td>107</td>\n",
       "      <td>12:14</td>\n",
       "      <td>4.573672</td>\n",
       "      <td>20.507658</td>\n",
       "      <td>12.389857</td>\n",
       "      <td>12:05</td>\n",
       "      <td>NOR</td>\n",
       "      <td>ARG</td>\n",
       "      <td>Norway</td>\n",
       "      <td>Argentina</td>\n",
       "    </tr>\n",
       "    <tr>\n",
       "      <th>2</th>\n",
       "      <td>104515</td>\n",
       "      <td>2019-01-15</td>\n",
       "      <td>12.308772</td>\n",
       "      <td>15</td>\n",
       "      <td>1</td>\n",
       "      <td>1.50</td>\n",
       "      <td>115</td>\n",
       "      <td>12:18</td>\n",
       "      <td>4.556484</td>\n",
       "      <td>20.335225</td>\n",
       "      <td>12.449423</td>\n",
       "      <td>12:09</td>\n",
       "      <td>NOR</td>\n",
       "      <td>ARG</td>\n",
       "      <td>Norway</td>\n",
       "      <td>Argentina</td>\n",
       "    </tr>\n",
       "    <tr>\n",
       "      <th>3</th>\n",
       "      <td>104515</td>\n",
       "      <td>2019-01-23</td>\n",
       "      <td>12.393009</td>\n",
       "      <td>23</td>\n",
       "      <td>1</td>\n",
       "      <td>1.75</td>\n",
       "      <td>123</td>\n",
       "      <td>12:23</td>\n",
       "      <td>5.427003</td>\n",
       "      <td>20.116418</td>\n",
       "      <td>12.506612</td>\n",
       "      <td>12:15</td>\n",
       "      <td>NOR</td>\n",
       "      <td>ARG</td>\n",
       "      <td>Norway</td>\n",
       "      <td>Argentina</td>\n",
       "    </tr>\n",
       "    <tr>\n",
       "      <th>4</th>\n",
       "      <td>104515</td>\n",
       "      <td>2019-02-01</td>\n",
       "      <td>12.510025</td>\n",
       "      <td>1</td>\n",
       "      <td>2</td>\n",
       "      <td>2.00</td>\n",
       "      <td>201</td>\n",
       "      <td>12:30</td>\n",
       "      <td>6.385432</td>\n",
       "      <td>19.574198</td>\n",
       "      <td>12.623481</td>\n",
       "      <td>12:24</td>\n",
       "      <td>GRL</td>\n",
       "      <td>ARG</td>\n",
       "      <td>Greenland</td>\n",
       "      <td>Argentina</td>\n",
       "    </tr>\n",
       "  </tbody>\n",
       "</table>\n",
       "</div>"
      ],
      "text/plain": [
       "   citi_id        Date    Fasting   D  M  Animation  Anim MakkahFasting  \\\n",
       "0   104515  2019-01-01  12.213980   1  1       1.00   101         12:12   \n",
       "1   104515  2019-01-07  12.245843   7  1       1.25   107         12:14   \n",
       "2   104515  2019-01-15  12.308772  15  1       1.50   115         12:18   \n",
       "3   104515  2019-01-23  12.393009  23  1       1.75   123         12:23   \n",
       "4   104515  2019-02-01  12.510025   1  2       2.00   201         12:30   \n",
       "\n",
       "     min_fd     max_fd  world_avg_fd SaudiaAvgDuration MinCntryIso3  \\\n",
       "0  4.582942  20.598683     12.358328             12:03          NOR   \n",
       "1  4.573672  20.507658     12.389857             12:05          NOR   \n",
       "2  4.556484  20.335225     12.449423             12:09          NOR   \n",
       "3  5.427003  20.116418     12.506612             12:15          NOR   \n",
       "4  6.385432  19.574198     12.623481             12:24          GRL   \n",
       "\n",
       "  MaxCntryIso3 MinCntryName MaxCntryName  \n",
       "0          ARG       Norway    Argentina  \n",
       "1          ARG       Norway    Argentina  \n",
       "2          ARG       Norway    Argentina  \n",
       "3          ARG       Norway    Argentina  \n",
       "4          ARG    Greenland    Argentina  "
      ]
     },
     "execution_count": 60,
     "metadata": {},
     "output_type": "execute_result"
    }
   ],
   "source": [
    "df7 = pd.merge(Makkah_df2, df6, on='Anim')\n",
    "df7.head()"
   ]
  },
  {
   "cell_type": "code",
   "execution_count": 61,
   "metadata": {
    "ExecuteTime": {
     "end_time": "2019-08-06T19:58:53.033111Z",
     "start_time": "2019-08-06T19:58:53.029113Z"
    }
   },
   "outputs": [],
   "source": [
    "# list(df7)"
   ]
  },
  {
   "cell_type": "code",
   "execution_count": 62,
   "metadata": {
    "ExecuteTime": {
     "end_time": "2019-08-06T19:58:55.066847Z",
     "start_time": "2019-08-06T19:58:55.045860Z"
    }
   },
   "outputs": [
    {
     "data": {
      "text/html": [
       "<div>\n",
       "<style scoped>\n",
       "    .dataframe tbody tr th:only-of-type {\n",
       "        vertical-align: middle;\n",
       "    }\n",
       "\n",
       "    .dataframe tbody tr th {\n",
       "        vertical-align: top;\n",
       "    }\n",
       "\n",
       "    .dataframe thead th {\n",
       "        text-align: right;\n",
       "    }\n",
       "</style>\n",
       "<table border=\"1\" class=\"dataframe\">\n",
       "  <thead>\n",
       "    <tr style=\"text-align: right;\">\n",
       "      <th></th>\n",
       "      <th>Anim</th>\n",
       "      <th>min_fd</th>\n",
       "      <th>MakkahAvg</th>\n",
       "      <th>max_fd</th>\n",
       "      <th>world_avg_fd</th>\n",
       "      <th>SaudiaAvgDuration</th>\n",
       "      <th>MakkahDuration</th>\n",
       "      <th>MinCntryIso3</th>\n",
       "      <th>MaxCntryIso3</th>\n",
       "      <th>MinCntryName</th>\n",
       "      <th>MaxCntryName</th>\n",
       "    </tr>\n",
       "  </thead>\n",
       "  <tbody>\n",
       "    <tr>\n",
       "      <th>0</th>\n",
       "      <td>101</td>\n",
       "      <td>4.582942</td>\n",
       "      <td>12.213980</td>\n",
       "      <td>20.598683</td>\n",
       "      <td>12.358328</td>\n",
       "      <td>12:03</td>\n",
       "      <td>12:12</td>\n",
       "      <td>NOR</td>\n",
       "      <td>ARG</td>\n",
       "      <td>Norway</td>\n",
       "      <td>Argentina</td>\n",
       "    </tr>\n",
       "    <tr>\n",
       "      <th>1</th>\n",
       "      <td>107</td>\n",
       "      <td>4.573672</td>\n",
       "      <td>12.245843</td>\n",
       "      <td>20.507658</td>\n",
       "      <td>12.389857</td>\n",
       "      <td>12:05</td>\n",
       "      <td>12:14</td>\n",
       "      <td>NOR</td>\n",
       "      <td>ARG</td>\n",
       "      <td>Norway</td>\n",
       "      <td>Argentina</td>\n",
       "    </tr>\n",
       "    <tr>\n",
       "      <th>2</th>\n",
       "      <td>115</td>\n",
       "      <td>4.556484</td>\n",
       "      <td>12.308772</td>\n",
       "      <td>20.335225</td>\n",
       "      <td>12.449423</td>\n",
       "      <td>12:09</td>\n",
       "      <td>12:18</td>\n",
       "      <td>NOR</td>\n",
       "      <td>ARG</td>\n",
       "      <td>Norway</td>\n",
       "      <td>Argentina</td>\n",
       "    </tr>\n",
       "    <tr>\n",
       "      <th>3</th>\n",
       "      <td>123</td>\n",
       "      <td>5.427003</td>\n",
       "      <td>12.393009</td>\n",
       "      <td>20.116418</td>\n",
       "      <td>12.506612</td>\n",
       "      <td>12:15</td>\n",
       "      <td>12:23</td>\n",
       "      <td>NOR</td>\n",
       "      <td>ARG</td>\n",
       "      <td>Norway</td>\n",
       "      <td>Argentina</td>\n",
       "    </tr>\n",
       "    <tr>\n",
       "      <th>4</th>\n",
       "      <td>201</td>\n",
       "      <td>6.385432</td>\n",
       "      <td>12.510025</td>\n",
       "      <td>19.574198</td>\n",
       "      <td>12.623481</td>\n",
       "      <td>12:24</td>\n",
       "      <td>12:30</td>\n",
       "      <td>GRL</td>\n",
       "      <td>ARG</td>\n",
       "      <td>Greenland</td>\n",
       "      <td>Argentina</td>\n",
       "    </tr>\n",
       "  </tbody>\n",
       "</table>\n",
       "</div>"
      ],
      "text/plain": [
       "   Anim    min_fd  MakkahAvg     max_fd  world_avg_fd SaudiaAvgDuration  \\\n",
       "0   101  4.582942  12.213980  20.598683     12.358328             12:03   \n",
       "1   107  4.573672  12.245843  20.507658     12.389857             12:05   \n",
       "2   115  4.556484  12.308772  20.335225     12.449423             12:09   \n",
       "3   123  5.427003  12.393009  20.116418     12.506612             12:15   \n",
       "4   201  6.385432  12.510025  19.574198     12.623481             12:24   \n",
       "\n",
       "  MakkahDuration MinCntryIso3 MaxCntryIso3 MinCntryName MaxCntryName  \n",
       "0          12:12          NOR          ARG       Norway    Argentina  \n",
       "1          12:14          NOR          ARG       Norway    Argentina  \n",
       "2          12:18          NOR          ARG       Norway    Argentina  \n",
       "3          12:23          NOR          ARG       Norway    Argentina  \n",
       "4          12:30          GRL          ARG    Greenland    Argentina  "
      ]
     },
     "execution_count": 62,
     "metadata": {},
     "output_type": "execute_result"
    }
   ],
   "source": [
    "df7 = df7[['Anim',\n",
    "           'min_fd', 'Fasting',\n",
    "           'max_fd',\n",
    "           'world_avg_fd',\n",
    "           'SaudiaAvgDuration',\n",
    "           'MakkahFasting',\n",
    "           'MinCntryIso3',\n",
    "           'MaxCntryIso3',\n",
    "           'MinCntryName',\n",
    "           'MaxCntryName']].rename(columns={'Fasting': 'MakkahAvg', 'MakkahFasting': 'MakkahDuration'})\n",
    "df7.head()"
   ]
  },
  {
   "cell_type": "code",
   "execution_count": 63,
   "metadata": {
    "ExecuteTime": {
     "end_time": "2019-08-06T19:59:00.579424Z",
     "start_time": "2019-08-06T19:59:00.554439Z"
    }
   },
   "outputs": [
    {
     "data": {
      "text/html": [
       "<div>\n",
       "<style scoped>\n",
       "    .dataframe tbody tr th:only-of-type {\n",
       "        vertical-align: middle;\n",
       "    }\n",
       "\n",
       "    .dataframe tbody tr th {\n",
       "        vertical-align: top;\n",
       "    }\n",
       "\n",
       "    .dataframe thead th {\n",
       "        text-align: right;\n",
       "    }\n",
       "</style>\n",
       "<table border=\"1\" class=\"dataframe\">\n",
       "  <thead>\n",
       "    <tr style=\"text-align: right;\">\n",
       "      <th></th>\n",
       "      <th>Anim</th>\n",
       "      <th>min_fd</th>\n",
       "      <th>MakkahAvg</th>\n",
       "      <th>max_fd</th>\n",
       "      <th>world_avg_fd</th>\n",
       "      <th>SaudiaAvgDuration</th>\n",
       "      <th>MakkahDuration</th>\n",
       "      <th>MinCntryIso3</th>\n",
       "      <th>MaxCntryIso3</th>\n",
       "      <th>MinCntryName</th>\n",
       "      <th>MaxCntryName</th>\n",
       "      <th>WorldMin</th>\n",
       "      <th>WorldMax</th>\n",
       "      <th>WorldAvg</th>\n",
       "    </tr>\n",
       "  </thead>\n",
       "  <tbody>\n",
       "    <tr>\n",
       "      <th>0</th>\n",
       "      <td>101</td>\n",
       "      <td>4.582942</td>\n",
       "      <td>12.213980</td>\n",
       "      <td>20.598683</td>\n",
       "      <td>12.358328</td>\n",
       "      <td>12:03</td>\n",
       "      <td>12:12</td>\n",
       "      <td>NOR</td>\n",
       "      <td>ARG</td>\n",
       "      <td>Norway</td>\n",
       "      <td>Argentina</td>\n",
       "      <td>04:34</td>\n",
       "      <td>20:35</td>\n",
       "      <td>12:21</td>\n",
       "    </tr>\n",
       "    <tr>\n",
       "      <th>1</th>\n",
       "      <td>107</td>\n",
       "      <td>4.573672</td>\n",
       "      <td>12.245843</td>\n",
       "      <td>20.507658</td>\n",
       "      <td>12.389857</td>\n",
       "      <td>12:05</td>\n",
       "      <td>12:14</td>\n",
       "      <td>NOR</td>\n",
       "      <td>ARG</td>\n",
       "      <td>Norway</td>\n",
       "      <td>Argentina</td>\n",
       "      <td>04:34</td>\n",
       "      <td>20:30</td>\n",
       "      <td>12:23</td>\n",
       "    </tr>\n",
       "    <tr>\n",
       "      <th>2</th>\n",
       "      <td>115</td>\n",
       "      <td>4.556484</td>\n",
       "      <td>12.308772</td>\n",
       "      <td>20.335225</td>\n",
       "      <td>12.449423</td>\n",
       "      <td>12:09</td>\n",
       "      <td>12:18</td>\n",
       "      <td>NOR</td>\n",
       "      <td>ARG</td>\n",
       "      <td>Norway</td>\n",
       "      <td>Argentina</td>\n",
       "      <td>04:33</td>\n",
       "      <td>20:20</td>\n",
       "      <td>12:26</td>\n",
       "    </tr>\n",
       "    <tr>\n",
       "      <th>3</th>\n",
       "      <td>123</td>\n",
       "      <td>5.427003</td>\n",
       "      <td>12.393009</td>\n",
       "      <td>20.116418</td>\n",
       "      <td>12.506612</td>\n",
       "      <td>12:15</td>\n",
       "      <td>12:23</td>\n",
       "      <td>NOR</td>\n",
       "      <td>ARG</td>\n",
       "      <td>Norway</td>\n",
       "      <td>Argentina</td>\n",
       "      <td>05:25</td>\n",
       "      <td>20:06</td>\n",
       "      <td>12:30</td>\n",
       "    </tr>\n",
       "    <tr>\n",
       "      <th>4</th>\n",
       "      <td>201</td>\n",
       "      <td>6.385432</td>\n",
       "      <td>12.510025</td>\n",
       "      <td>19.574198</td>\n",
       "      <td>12.623481</td>\n",
       "      <td>12:24</td>\n",
       "      <td>12:30</td>\n",
       "      <td>GRL</td>\n",
       "      <td>ARG</td>\n",
       "      <td>Greenland</td>\n",
       "      <td>Argentina</td>\n",
       "      <td>06:23</td>\n",
       "      <td>19:34</td>\n",
       "      <td>12:37</td>\n",
       "    </tr>\n",
       "  </tbody>\n",
       "</table>\n",
       "</div>"
      ],
      "text/plain": [
       "   Anim    min_fd  MakkahAvg     max_fd  world_avg_fd SaudiaAvgDuration  \\\n",
       "0   101  4.582942  12.213980  20.598683     12.358328             12:03   \n",
       "1   107  4.573672  12.245843  20.507658     12.389857             12:05   \n",
       "2   115  4.556484  12.308772  20.335225     12.449423             12:09   \n",
       "3   123  5.427003  12.393009  20.116418     12.506612             12:15   \n",
       "4   201  6.385432  12.510025  19.574198     12.623481             12:24   \n",
       "\n",
       "  MakkahDuration MinCntryIso3 MaxCntryIso3 MinCntryName MaxCntryName WorldMin  \\\n",
       "0          12:12          NOR          ARG       Norway    Argentina    04:34   \n",
       "1          12:14          NOR          ARG       Norway    Argentina    04:34   \n",
       "2          12:18          NOR          ARG       Norway    Argentina    04:33   \n",
       "3          12:23          NOR          ARG       Norway    Argentina    05:25   \n",
       "4          12:30          GRL          ARG    Greenland    Argentina    06:23   \n",
       "\n",
       "  WorldMax WorldAvg  \n",
       "0    20:35    12:21  \n",
       "1    20:30    12:23  \n",
       "2    20:20    12:26  \n",
       "3    20:06    12:30  \n",
       "4    19:34    12:37  "
      ]
     },
     "execution_count": 63,
     "metadata": {},
     "output_type": "execute_result"
    }
   ],
   "source": [
    "df7['WorldMin']= df7.min_fd.apply(convert_time)\n",
    "df7['WorldMax']= df7.max_fd.apply(convert_time)\n",
    "df7['WorldAvg']= df7.world_avg_fd.apply(convert_time)\n",
    "df7.head()"
   ]
  },
  {
   "cell_type": "code",
   "execution_count": 64,
   "metadata": {
    "ExecuteTime": {
     "end_time": "2019-08-06T19:59:02.219405Z",
     "start_time": "2019-08-06T19:59:02.216407Z"
    }
   },
   "outputs": [],
   "source": [
    "# list(df7)"
   ]
  },
  {
   "cell_type": "code",
   "execution_count": 66,
   "metadata": {
    "ExecuteTime": {
     "end_time": "2019-08-06T19:59:25.056338Z",
     "start_time": "2019-08-06T19:59:25.039346Z"
    },
    "scrolled": true
   },
   "outputs": [
    {
     "data": {
      "text/plain": [
       "(    Anim WorldMin WorldAvg MakkahDuration WorldMax MinCntryIso3 MaxCntryIso3  \\\n",
       " 0    101    04:34    12:21          12:12    20:35          NOR          ARG   \n",
       " 1    107    04:34    12:23          12:14    20:30          NOR          ARG   \n",
       " 2    115    04:33    12:26          12:18    20:20          NOR          ARG   \n",
       " 3    123    05:25    12:30          12:23    20:06          NOR          ARG   \n",
       " 4    201    06:23    12:37          12:30    19:34          GRL          ARG   \n",
       " 5    207    07:41    12:42          12:35    18:20          GRL          ARG   \n",
       " 6    215    07:54    12:50          12:43    17:21          SJM          ARG   \n",
       " 7    223    10:34    13:01          12:52    22:11          GRL          ATA   \n",
       " 8    301    11:36    13:07          12:59    20:58          GRL          ATA   \n",
       " 9    307    12:28    13:15          13:06    20:03          SWE          ATA   \n",
       " 10   315    12:48    13:24          13:16    18:59          GRD          ATA   \n",
       " 11   323    12:54    13:35          13:26    18:35          GRD          SJM   \n",
       " 12   401    13:00    13:47          13:37    19:47          GRD          SJM   \n",
       " 13   407    12:50    13:55          13:45    20:40          NZL          SJM   \n",
       " 14   415    11:56    14:06          13:56    22:14          ATA          SJM   \n",
       " 15   423    09:06    14:17          14:06    21:31          ATA          RUS   \n",
       " 16   501    11:15    14:31          14:16    22:53          ARG          RUS   \n",
       " 17   507    10:54    14:39          14:24    23:07          ARG          RUS   \n",
       " 18   515    10:29    14:48          14:32    23:40          ARG          NOR   \n",
       " 19   523    10:07    14:57          14:40    23:46          ARG          NOR   \n",
       " 20   601    09:48    15:05          14:47    23:44          ARG          FIN   \n",
       " 21   607    09:38    15:10          14:50    23:47          ARG          SWE   \n",
       " 22   615    09:31    15:13          14:53    23:54          ARG          SWE   \n",
       " 23   623    09:29    15:14          14:54    23:56          ARG          RUS   \n",
       " 24   701    09:34    15:12          14:52    23:51          ARG          RUS   \n",
       " 25   707    09:41    15:09          14:50    23:47          ARG          RUS   \n",
       " 26   715    09:55    15:03          14:45    23:42          ARG          RUS   \n",
       " 27   723    10:15    14:55          14:38    23:41          ARG          NOR   \n",
       " 28   801    10:41    14:46          14:29    23:37          ARG          NOR   \n",
       " 29   807    11:00    14:38          14:22    22:54          ARG          RUS   \n",
       " 30   815    11:29    14:26          14:13    22:17          ARG          RUS   \n",
       " 31   823    10:05    14:13          14:03    21:11          ATA          RUS   \n",
       " 32   901    12:37    14:00          13:51    21:21          SGS          SJM   \n",
       " 33   907    12:56    13:52          13:43    20:22          NZL          SJM   \n",
       " 34   915    12:57    13:42          13:33    19:16          GRD          SJM   \n",
       " 35   923    12:52    13:31          13:23    18:15          GRD          SJM   \n",
       " 36  1001    12:46    13:21          13:13    19:12          FRA          ATA   \n",
       " 37  1007    12:25    13:14          13:05    20:00          GRL          ATA   \n",
       " 38  1015    11:08    13:05          12:56    21:14          GRL          ATA   \n",
       " 39  1023    09:45    12:54          12:47    16:58          GRL          ARG   \n",
       " 40  1101    08:08    12:45          12:38    17:58          GRL          ARG   \n",
       " 41  1107    06:56    12:39          12:33    18:50          GRL          ARG   \n",
       " 42  1115    06:19    12:33          12:26    20:00          NOR          ARG   \n",
       " 43  1123    04:55    12:29          12:20    20:14          NOR          ARG   \n",
       " 44  1201    04:45    12:24          12:16    20:26          NOR          ARG   \n",
       " 45  1207    04:36    12:22          12:14    20:32          NOR          ARG   \n",
       " 46  1215    04:29    12:20          12:12    20:38          NOR          ARG   \n",
       " 47  1223    04:30    12:20          12:11    20:39          NOR          ARG   \n",
       " \n",
       "                                     MinCntryName              MaxCntryName  \n",
       " 0                                         Norway                 Argentina  \n",
       " 1                                         Norway                 Argentina  \n",
       " 2                                         Norway                 Argentina  \n",
       " 3                                         Norway                 Argentina  \n",
       " 4                                      Greenland                 Argentina  \n",
       " 5                                      Greenland                 Argentina  \n",
       " 6                         Svalbard and Jan Mayen                 Argentina  \n",
       " 7                                      Greenland                Antarctica  \n",
       " 8                                      Greenland                Antarctica  \n",
       " 9                                         Sweden                Antarctica  \n",
       " 10                                       Grenada                Antarctica  \n",
       " 11                                       Grenada    Svalbard and Jan Mayen  \n",
       " 12                                       Grenada    Svalbard and Jan Mayen  \n",
       " 13                                   New Zealand    Svalbard and Jan Mayen  \n",
       " 14                                    Antarctica    Svalbard and Jan Mayen  \n",
       " 15                                    Antarctica  Russian Federation (the)  \n",
       " 16                                     Argentina  Russian Federation (the)  \n",
       " 17                                     Argentina  Russian Federation (the)  \n",
       " 18                                     Argentina                    Norway  \n",
       " 19                                     Argentina                    Norway  \n",
       " 20                                     Argentina                   Finland  \n",
       " 21                                     Argentina                    Sweden  \n",
       " 22                                     Argentina                    Sweden  \n",
       " 23                                     Argentina  Russian Federation (the)  \n",
       " 24                                     Argentina  Russian Federation (the)  \n",
       " 25                                     Argentina  Russian Federation (the)  \n",
       " 26                                     Argentina  Russian Federation (the)  \n",
       " 27                                     Argentina                    Norway  \n",
       " 28                                     Argentina                    Norway  \n",
       " 29                                     Argentina  Russian Federation (the)  \n",
       " 30                                     Argentina  Russian Federation (the)  \n",
       " 31                                    Antarctica  Russian Federation (the)  \n",
       " 32  South Georgia and the South Sandwich Islands    Svalbard and Jan Mayen  \n",
       " 33                                   New Zealand    Svalbard and Jan Mayen  \n",
       " 34                                       Grenada    Svalbard and Jan Mayen  \n",
       " 35                                       Grenada    Svalbard and Jan Mayen  \n",
       " 36                                        France                Antarctica  \n",
       " 37                                     Greenland                Antarctica  \n",
       " 38                                     Greenland                Antarctica  \n",
       " 39                                     Greenland                 Argentina  \n",
       " 40                                     Greenland                 Argentina  \n",
       " 41                                     Greenland                 Argentina  \n",
       " 42                                        Norway                 Argentina  \n",
       " 43                                        Norway                 Argentina  \n",
       " 44                                        Norway                 Argentina  \n",
       " 45                                        Norway                 Argentina  \n",
       " 46                                        Norway                 Argentina  \n",
       " 47                                        Norway                 Argentina  ,\n",
       " (48, 9))"
      ]
     },
     "execution_count": 66,
     "metadata": {},
     "output_type": "execute_result"
    }
   ],
   "source": [
    "df8 = df7[['Anim', 'WorldMin', 'WorldAvg', 'MakkahDuration', 'WorldMax',\n",
    "           'MinCntryIso3', 'MaxCntryIso3', 'MinCntryName', 'MaxCntryName',\n",
    "           ]]\n",
    "df8, df8.shape"
   ]
  },
  {
   "cell_type": "code",
   "execution_count": 67,
   "metadata": {
    "ExecuteTime": {
     "end_time": "2019-08-06T19:59:32.267920Z",
     "start_time": "2019-08-06T19:59:32.256928Z"
    }
   },
   "outputs": [],
   "source": [
    "df8.to_csv('../Datasets/FinalSummaryMakkah.csv', index=False)"
   ]
  },
  {
   "cell_type": "code",
   "execution_count": null,
   "metadata": {},
   "outputs": [],
   "source": []
  }
 ],
 "metadata": {
  "kernelspec": {
   "display_name": "Python 3",
   "language": "python",
   "name": "python3"
  },
  "language_info": {
   "codemirror_mode": {
    "name": "ipython",
    "version": 3
   },
   "file_extension": ".py",
   "mimetype": "text/x-python",
   "name": "python",
   "nbconvert_exporter": "python",
   "pygments_lexer": "ipython3",
   "version": "3.7.3"
  }
 },
 "nbformat": 4,
 "nbformat_minor": 2
}
